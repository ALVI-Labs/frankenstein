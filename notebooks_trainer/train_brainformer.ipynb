{
 "cells": [
  {
   "cell_type": "code",
   "execution_count": 3,
   "metadata": {},
   "outputs": [],
   "source": [
    "import os\n",
    "import sys\n",
    "from pathlib import Path\n",
    "sys.path.insert(1, os.path.realpath(os.path.pardir))\n",
    "\n",
    "\n",
    "import safetensors\n",
    "import torch\n",
    "import torch.nn.functional as F\n",
    "from accelerate import notebook_launcher\n",
    "from einops import rearrange\n",
    "from einops.layers.torch import Rearrange\n",
    "from simple_parsing import ArgumentParser\n",
    "\n",
    "from models import brainformer\n",
    "from utils.data_utils import BrainDataset\n",
    "from utils.train_utils import TrainConfig, run_train_model, count_parameters"
   ]
  },
  {
   "cell_type": "code",
   "execution_count": 4,
   "metadata": {},
   "outputs": [],
   "source": [
    "train_config = TrainConfig(exp_name='brainformer_simple', p_augs=0)\n",
    "data_path = Path(r\"D:\\Work\\brain-to-text-competition\\data\\competitionData\")\n",
    "\n",
    "train_dataset = BrainDataset(data_path / 'train')\n",
    "test_dataset = BrainDataset(data_path / 'test')\n",
    "\n",
    "# Init model\n",
    "mae_config = brainformer.MAEConfig(window_size=1024)\n",
    "model = brainformer.MAE(mae_config)\n",
    "count_parameters(model)\n",
    "\n",
    "args = (model, (train_dataset, test_dataset), train_config)\n",
    "notebook_launcher(run_train_model, args, num_processes=1)"
   ]
  }
 ],
 "metadata": {
  "kernelspec": {
   "display_name": "torch_2",
   "language": "python",
   "name": "python3"
  },
  "language_info": {
   "codemirror_mode": {
    "name": "ipython",
    "version": 3
   },
   "file_extension": ".py",
   "mimetype": "text/x-python",
   "name": "python",
   "nbconvert_exporter": "python",
   "pygments_lexer": "ipython3",
   "version": "3.10.10"
  }
 },
 "nbformat": 4,
 "nbformat_minor": 4
}
