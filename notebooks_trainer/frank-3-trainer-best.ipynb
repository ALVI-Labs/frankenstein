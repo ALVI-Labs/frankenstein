{
 "cells": [
  {
   "cell_type": "code",
   "execution_count": null,
   "metadata": {},
   "outputs": [],
   "source": [
    "import os\n",
    "import sys\n",
    "from pathlib import Path\n",
    "sys.path.insert(1, os.path.realpath(os.path.pardir))\n",
    "\n",
    "import torch\n",
    "import torch.nn.functional as F\n",
    "from torch import nn\n",
    "\n",
    "import safetensors\n",
    "from accelerate import notebook_launcher\n",
    "\n",
    "from utils.data_utils import BrainDataset, get_tokenizer\n",
    "from utils.train_utils import TrainConfig, run_train_model, count_parameters, load_model_weights\n",
    "\n",
    "from dataclasses import dataclass\n",
    "from simple_parsing.helpers import Serializable\n",
    "\n",
    "from safetensors.torch import load_model\n",
    "import albumentations as A\n",
    "\n",
    "import matplotlib.pyplot as plt"
   ]
  },
  {
   "cell_type": "code",
   "execution_count": null,
   "metadata": {},
   "outputs": [],
   "source": [
    "from models.bert import BrainBert, BertConfig\n",
    "from models.vq_brain_per_channel import SoundStream, VAEConfig\n",
    "from models.frankenstein import Franky"
   ]
  },
  {
   "cell_type": "markdown",
   "metadata": {},
   "source": [
    "## Init brain module"
   ]
  },
  {
   "cell_type": "code",
   "execution_count": null,
   "metadata": {},
   "outputs": [],
   "source": [
    "vae_config = VAEConfig(C=256, levels=(8, 8, 6, 5))\n",
    "vq_vae = SoundStream(**vae_config.to_dict())\n",
    "\n",
    "model_config = BertConfig(dim=256, \n",
    "                 window_size=512, \n",
    "                 tokenizer_downsample=int(vq_vae.downsample),\n",
    "                 n_electrodes=256, \n",
    "                 mask_ratio=0.0, \n",
    "                 n_layers=12, \n",
    "                 n_heads=12, \n",
    "                 n_kv_heads=12)\n",
    "\n",
    "bert = BrainBert(model_config, vq_vae)"
   ]
  },
  {
   "cell_type": "markdown",
   "metadata": {},
   "source": [
    "## Init language model"
   ]
  },
  {
   "cell_type": "code",
   "execution_count": null,
   "metadata": {},
   "outputs": [],
   "source": [
    "from transformers import GPT2Tokenizer, GPT2LMHeadModel\n",
    "\n",
    "tokenizer = GPT2Tokenizer.from_pretrained('gpt2-medium')\n",
    "gpt2 = GPT2LMHeadModel.from_pretrained('gpt2-medium', add_cross_attention=True)"
   ]
  },
  {
   "cell_type": "markdown",
   "metadata": {},
   "source": [
    "## Init Franky"
   ]
  },
  {
   "cell_type": "code",
   "execution_count": null,
   "metadata": {},
   "outputs": [],
   "source": [
    "@dataclass\n",
    "class CombinerConfig(Serializable):\n",
    "    # data params\n",
    "    n_registers: int = 2\n",
    "    n_layers: int = 6\n",
    "    dim: int = 256\n",
    "    hidden_dim: int = 1024\n",
    "\n",
    "    head_dim: int = 32\n",
    "    n_heads: int = 8\n",
    "    n_kv_heads: int = 8\n",
    "\n",
    "@dataclass\n",
    "class CausalModelConfig(Serializable):\n",
    "\n",
    "    block_size: int = 0\n",
    "    rope_theta: float = 10000.0\n",
    "\n",
    "    # data params\n",
    "    n_layers: int = 6\n",
    "    dim: int = 256\n",
    "    hidden_dim: int = 1024\n",
    "    dropout: float = 0.0\n",
    "    \n",
    "    head_dim: int = 32\n",
    "    n_heads: int = 8\n",
    "    n_kv_heads: int = 8\n",
    "    calculate_loss: bool = False"
   ]
  },
  {
   "cell_type": "code",
   "execution_count": null,
   "metadata": {
    "scrolled": true
   },
   "outputs": [],
   "source": [
    "combiner_config = CombinerConfig()\n",
    "causal_config = CausalModelConfig()\n",
    "\n",
    "model = Franky(combiner_config, causal_config, bert, gpt2, tokenizer)\n",
    "\n",
    "bert_weights = \"/drive/logs/kovalev/bert/new_vqvae_8x_2000_large_bert_30M_0_25/step_6500_loss_1.4677.safetensors\"\n",
    "model.brain_model = load_model_weights(model.brain_model, bert_weights)\n",
    "\n",
    "# let's freeeze weights \n",
    "for param in model.brain_model.parameters():\n",
    "    param.requires_grad = False\n",
    "\n",
    "for param in model.llm_model.parameters():\n",
    "    param.requires_grad = False\n",
    "\n",
    "for np, p in model.llm_model.transformer.named_parameters():\n",
    "    if \"cross\" in np:\n",
    "        p.requires_grad = True\n",
    "\n",
    "# for param in model.llm_model.transformer.wte.parameters():\n",
    "#     param.requires_grad = False\n",
    "    \n",
    "# for param in model.llm_model.transformer.wpe.parameters():\n",
    "#     param.requires_grad = False\n",
    "\n",
    "# for param in model.llm_model.lm_head.parameters():\n",
    "#     param.requires_grad = False\n",
    "\n",
    "count_parameters(model)\n",
    "count_parameters(model.llm_model)"
   ]
  },
  {
   "cell_type": "code",
   "execution_count": null,
   "metadata": {},
   "outputs": [],
   "source": []
  },
  {
   "cell_type": "code",
   "execution_count": null,
   "metadata": {},
   "outputs": [],
   "source": [
    "# count_parameters(model)"
   ]
  },
  {
   "cell_type": "code",
   "execution_count": null,
   "metadata": {},
   "outputs": [],
   "source": [
    "window_size = model_config.window_size\n",
    "n_electrodes = 256\n",
    "\n",
    "train_transform = A.Compose([\n",
    "    \n",
    "    # A.CoarseDropout(fill_value=0, p=0.5),\n",
    "    # A.MultiplicativeNoise(multiplier=(0.9, 1.1), p=0.5),\n",
    "    # A.GaussNoise(var_limit=0.005, mean=0, p=0.5),\n",
    "\n",
    "    A.PadIfNeeded(min_height=window_size, min_width=n_electrodes, position='top_left', \n",
    "                  border_mode=0, value=0, always_apply=True),\n",
    "    # A.RandomCrop(height=window_size, width=n_electrodes, always_apply=True),\n",
    "    A.Crop(x_min=0, x_max=n_electrodes, y_min=0, y_max=window_size, always_apply=True),\n",
    "\n",
    "])\n",
    "\n",
    "test_transform = A.Compose([\n",
    "    A.PadIfNeeded(min_height=window_size, min_width=n_electrodes, position='top_left', \n",
    "                  border_mode=0, value=0, always_apply=True),\n",
    "    A.Crop(x_min=0, x_max=n_electrodes, y_min=0, y_max=window_size, always_apply=True)\n",
    "])\n",
    "\n",
    "\n",
    "data_path = Path(\"/drive/data/competitionData\")\n",
    "\n",
    "train_dataset = BrainDataset(data_path / 'train', tokenize_function=get_tokenizer(tokenizer), transform=train_transform)\n",
    "test_dataset = BrainDataset(data_path / 'test', tokenize_function=get_tokenizer(tokenizer), transform=test_transform)"
   ]
  },
  {
   "cell_type": "code",
   "execution_count": null,
   "metadata": {},
   "outputs": [],
   "source": [
    "# for idx in [0,100, 200, 300, 400, 500, 600]:\n",
    "#     sample = train_dataset[idx]\n",
    "#     x, y = sample[0], sample[1]\n",
    "#     print(y)\n",
    "#     plt.imshow(x.T)\n",
    "#     plt.show()\n",
    "    "
   ]
  },
  {
   "cell_type": "code",
   "execution_count": null,
   "metadata": {},
   "outputs": [],
   "source": [
    "test_dataloader = torch.utils.data.DataLoader(test_dataset, batch_size=1, shuffle=False)\n",
    "\n",
    "x, y, date = next(iter(test_dataloader))\n",
    "loss, logits = model(x, y, date)\n",
    "\n",
    "print(x.shape, y.shape, date)\n",
    "plt.imshow(x.detach()[0].T)\n",
    "plt.show()"
   ]
  },
  {
   "cell_type": "markdown",
   "metadata": {},
   "source": [
    "# Work with data"
   ]
  },
  {
   "cell_type": "code",
   "execution_count": null,
   "metadata": {},
   "outputs": [],
   "source": [
    "project_name = 'frankenstein'\n",
    "save_folder = Path(\"/drive/logs/kovalev\")\n",
    "\n",
    "train_config = TrainConfig(exp_name='franky-3-bert-gpt2-medium',\n",
    "                           mixed_precision=True,\n",
    "                           batch_size=128, \n",
    "                           grad_accum=8,\n",
    "                           num_workers=3,\n",
    "                           pin_memory=True, \n",
    "                           eval_interval=250, \n",
    "                           learning_rate=1e-3,\n",
    "                           weight_decay=0, \n",
    "                           grad_clip=5,\n",
    "                           lr_decay_iters=20_000, \n",
    "                           warmup_iters=1000, \n",
    "                           project_name=project_name, \n",
    "                           save_folder=save_folder\n",
    "                          )\n",
    "\n",
    "\n",
    "args = (model, (train_dataset, test_dataset), train_config, model_config)\n",
    "notebook_launcher(run_train_model, args, num_processes=1)"
   ]
  },
  {
   "cell_type": "code",
   "execution_count": null,
   "metadata": {},
   "outputs": [],
   "source": []
  },
  {
   "cell_type": "code",
   "execution_count": null,
   "metadata": {},
   "outputs": [],
   "source": [
    "save_folder = Path(\"/drive/logs/kovalev\")\n",
    "\n",
    "safetensors.torch.save_model(model, save_folder / 'model_mae_long_train.safetensors')"
   ]
  },
  {
   "cell_type": "code",
   "execution_count": null,
   "metadata": {},
   "outputs": [],
   "source": [
    "model"
   ]
  },
  {
   "cell_type": "code",
   "execution_count": null,
   "metadata": {},
   "outputs": [],
   "source": [
    "import torch._dynamo\n",
    "torch._dynamo.config.suppress_errors = True"
   ]
  },
  {
   "cell_type": "code",
   "execution_count": null,
   "metadata": {},
   "outputs": [],
   "source": [
    "model = model._orig_mod"
   ]
  },
  {
   "cell_type": "code",
   "execution_count": null,
   "metadata": {},
   "outputs": [],
   "source": [
    "mae_weights = \"/drive/logs/kovalev/fixed_abs_mae_11M_5M_spikes/step_34000_loss_0.0166.safetensors\"\n",
    "\n",
    "mae_model = SimpleMAE( SimpleEncoderConfig(), SimpleMAEConfig())\n",
    "mae_model = torch.compile(mae_model)\n",
    "safetensors.torch.load_model(mae_model, mae_weights)\n",
    "mae_model = mae_model._orig_mod\n",
    "\n",
    "brain_model = mae_model.encoder"
   ]
  },
  {
   "cell_type": "code",
   "execution_count": null,
   "metadata": {},
   "outputs": [],
   "source": [
    "x = test_dataset[0][0]\n",
    "device = 'cpu'\n",
    "x = torch.from_numpy(x[None, :]).to(device)\n",
    "print(x.shape)\n",
    "loss, y, binary = model(x, masking_ratio=0.75,  return_preds=True)\n",
    "\n",
    "x = x.detach().cpu()[0]\n",
    "y = y.detach().cpu()[0]\n",
    "binary = binary.detach().cpu()[0]\n",
    "\n",
    "import matplotlib.pyplot as plt \n",
    "\n",
    "# plt.plot(y[1, :])\n",
    "# plt.show()\n",
    "# plt.plot(x[1, :])\n",
    "# plt.show()\n",
    "loss = F.l1_loss(y, x, reduction='none')\n",
    "print(torch.mean(loss[loss>0]))\n",
    "\n",
    "plt.show()\n",
    "plt.imshow(binary[:64].T, aspect='auto')\n",
    "# plt.colorbar()\n",
    "plt.show()\n",
    "plt.imshow(torch.clip(y[:64].T, 0, 1), aspect='auto')\n",
    "plt.colorbar()\n",
    "plt.show()\n",
    "plt.imshow(x[:64].T, aspect='auto' )\n",
    "plt.colorbar()\n"
   ]
  },
  {
   "cell_type": "code",
   "execution_count": null,
   "metadata": {},
   "outputs": [],
   "source": [
    "plt.show()\n",
    "plt.plot(binary[:32, 10])\n",
    "plt.show()\n",
    "plt.plot(y[:32, 10])\n",
    "# plt.show()\n",
    "plt.plot(x[:32, 10])"
   ]
  },
  {
   "cell_type": "markdown",
   "metadata": {},
   "source": []
  },
  {
   "cell_type": "code",
   "execution_count": null,
   "metadata": {},
   "outputs": [],
   "source": []
  }
 ],
 "metadata": {
  "kernelspec": {
   "display_name": "Python [conda env:pytorch]",
   "language": "python",
   "name": "conda-env-pytorch-py"
  },
  "language_info": {
   "codemirror_mode": {
    "name": "ipython",
    "version": 3
   },
   "file_extension": ".py",
   "mimetype": "text/x-python",
   "name": "python",
   "nbconvert_exporter": "python",
   "pygments_lexer": "ipython3",
   "version": "3.10.14"
  }
 },
 "nbformat": 4,
 "nbformat_minor": 4
}
