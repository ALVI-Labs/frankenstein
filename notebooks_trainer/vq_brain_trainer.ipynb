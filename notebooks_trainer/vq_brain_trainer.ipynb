{
 "cells": [
  {
   "cell_type": "code",
   "execution_count": 1,
   "metadata": {},
   "outputs": [
    {
     "name": "stdout",
     "output_type": "stream",
     "text": [
      "self.codebook_size 4375\n",
      "self.downsample 4\n",
      "Total: 17.34M, Trainable: 17.34M\n",
      "VAEConfig(C=256, n_features=4, levels=(7, 5, 5, 5, 5), stride_list=(2, 1, 2, 1))\n",
      "{'total_loss': tensor(0.0297, grad_fn=<MeanBackward0>)}\n",
      "Runed processing of the  /drive/data/competitionData/train\n"
     ]
    },
    {
     "name": "stderr",
     "output_type": "stream",
     "text": [
      "Processing files: 100%|██████████| 24/24 [01:15<00:00,  3.13s/file]\n"
     ]
    },
    {
     "name": "stdout",
     "output_type": "stream",
     "text": [
      "len of the dataset: 8800\n",
      "max signal size: 906 | max tokens size: 87\n",
      "median signal size: 297.0 | median tokens size: 31.0\n",
      "Runed processing of the  /drive/data/competitionData/test\n"
     ]
    },
    {
     "name": "stderr",
     "output_type": "stream",
     "text": [
      "Processing files: 100%|██████████| 24/24 [00:10<00:00,  2.37file/s]"
     ]
    },
    {
     "name": "stdout",
     "output_type": "stream",
     "text": [
      "len of the dataset: 880\n",
      "max signal size: 919 | max tokens size: 86\n",
      "median signal size: 283.5 | median tokens size: 30.0\n"
     ]
    },
    {
     "name": "stderr",
     "output_type": "stream",
     "text": [
      "\n"
     ]
    },
    {
     "data": {
      "text/plain": [
       "0"
      ]
     },
     "execution_count": 1,
     "metadata": {},
     "output_type": "execute_result"
    }
   ],
   "source": [
    "import os\n",
    "import sys\n",
    "from pathlib import Path\n",
    "sys.path.insert(1, os.path.realpath(os.path.pardir))\n",
    "\n",
    "import torch\n",
    "import torch.nn.functional as F\n",
    "from torch import nn\n",
    "import safetensors\n",
    "from accelerate import notebook_launcher\n",
    "\n",
    "import einops\n",
    "import gc \n",
    "\n",
    "\n",
    "from vector_quantize_pytorch import FSQ\n",
    "\n",
    "import albumentations as A\n",
    "import numpy as np\n",
    "import matplotlib.pyplot as plt\n",
    "from dataclasses import dataclass\n",
    "from simple_parsing import Serializable\n",
    "\n",
    "\n",
    "from utils.data_utils import BrainDataset, get_tokenizer\n",
    "from utils.train_utils import TrainConfig, run_train_model, count_parameters, simple_train_model\n",
    "from utils.data_utils import process_file_v2\n",
    "\n",
    "from models.vq_brain_per_channel import SoundStream, VAEConfig\n",
    "# from transformers import GPT2Tokenizer\n",
    "# tokenizer = GPT2Tokenizer.from_pretrained('gpt2-medium')\n",
    "\n",
    "model_config = VAEConfig(C=256, levels=(7, 5, 5, 5, 5), n_features=4, stride_list = (2, 1, 2, 1))\n",
    "model = SoundStream(**model_config.to_dict())\n",
    "\n",
    "count_parameters(model)\n",
    "\n",
    "x = torch.zeros(1, 32, 256 * 4)\n",
    "loss, pred = model(x)\n",
    "\n",
    "print(model_config)\n",
    "print(loss)\n",
    "\n",
    "\n",
    "\n",
    "window_size = 128\n",
    "n_electrodes = 256 * 4\n",
    "max_tokens = 25\n",
    "\n",
    "train_transform = A.Compose([\n",
    "    \n",
    "    # A.CoarseDropout(fill_value=0, p=0.5),\n",
    "    # A.MultiplicativeNoise(multiplier=(0.9, 1.1), p=0.5),\n",
    "    # A.GaussNoise(var_limit=0.005, mean=0, p=0.5),\n",
    "\n",
    "    A.PadIfNeeded(min_height=window_size, min_width=n_electrodes, position='top_left', \n",
    "                  border_mode=0, value=0, always_apply=True),\n",
    "    A.RandomCrop(height=window_size, width=n_electrodes, always_apply=True),\n",
    "    A.Normalize(mean=0.5, std=0.5, max_pixel_value=1, always_apply=True)\n",
    "    # A.Crop(x_min=0, x_max=n_electrodes, y_min=0, y_max=window_size, always_apply=True),\n",
    "\n",
    "])\n",
    "\n",
    "test_transform = A.Compose([\n",
    "    A.PadIfNeeded(min_height=window_size, min_width=n_electrodes, position='top_left', \n",
    "                  border_mode=0, value=0, always_apply=True),\n",
    "    A.Crop(x_min=0, x_max=n_electrodes, y_min=0, y_max=window_size, always_apply=True),\n",
    "    A.Normalize(mean=0.5, std=0.5, max_pixel_value=1, always_apply=True)\n",
    "])\n",
    "\n",
    "\n",
    "data_path = Path(\"/drive/data/competitionData\")\n",
    "\n",
    "tokenize_function = None\n",
    "process_file_function = process_file_v2\n",
    "\n",
    "train_dataset = BrainDataset(data_path / 'train', \n",
    "                             process_file_function=process_file_function, \n",
    "                             tokenize_function=tokenize_function, \n",
    "                             transform=train_transform, \n",
    "                             max_tokens=max_tokens)\n",
    "\n",
    "gc.collect()\n",
    "test_dataset = BrainDataset(data_path / 'test', \n",
    "                            process_file_function=process_file_function, \n",
    "                            tokenize_function=tokenize_function, \n",
    "                            transform=test_transform, \n",
    "                            max_tokens=max_tokens)\n",
    "\n",
    "gc.collect()"
   ]
  },
  {
   "cell_type": "code",
   "execution_count": 2,
   "metadata": {},
   "outputs": [
    {
     "name": "stdout",
     "output_type": "stream",
     "text": [
      "input text ('theocracy reconsidered',)\n"
     ]
    },
    {
     "data": {
      "text/plain": [
       "{'total_loss': tensor(0.9299, grad_fn=<MeanBackward0>)}"
      ]
     },
     "execution_count": 2,
     "metadata": {},
     "output_type": "execute_result"
    }
   ],
   "source": [
    "# test_dataloader = torch.utils.data.DataLoader(test_dataset, batch_size=1, shuffle=False)\n",
    "train_dataloader = torch.utils.data.DataLoader(test_dataset, batch_size=1, shuffle=False)\n",
    "\n",
    "x, y, date = next(iter(train_dataloader))\n",
    "# print(x.shape, y.shape, date.shape)\n",
    "print('input text', y)\n",
    "\n",
    "loss, logits = model(x, y, date)\n",
    "loss\n",
    "# plt.imshow(x.detach()[0].T)\n",
    "# plt.show()"
   ]
  },
  {
   "cell_type": "code",
   "execution_count": null,
   "metadata": {},
   "outputs": [
    {
     "name": "stdout",
     "output_type": "stream",
     "text": [
      "Launching training on one GPU.\n"
     ]
    },
    {
     "name": "stderr",
     "output_type": "stream",
     "text": [
      "/opt/conda/envs/pytorch/lib/python3.10/site-packages/accelerate/accelerator.py:446: FutureWarning: Passing the following arguments to `Accelerator` is deprecated and will be removed in version 1.0 of Accelerate: dict_keys(['split_batches']). Please pass an `accelerate.DataLoaderConfiguration` instead: \n",
      "dataloader_config = DataLoaderConfiguration(split_batches=True)\n",
      "  warnings.warn(\n",
      "\u001b[34m\u001b[1mwandb\u001b[0m: Currently logged in as: \u001b[33mkoval_alvi\u001b[0m. Use \u001b[1m`wandb login --relogin`\u001b[0m to force relogin\n"
     ]
    },
    {
     "data": {
      "text/html": [
       "wandb version 0.17.0 is available!  To upgrade, please run:\n",
       " $ pip install wandb --upgrade"
      ],
      "text/plain": [
       "<IPython.core.display.HTML object>"
      ]
     },
     "metadata": {},
     "output_type": "display_data"
    },
    {
     "data": {
      "text/html": [
       "Tracking run with wandb version 0.16.6"
      ],
      "text/plain": [
       "<IPython.core.display.HTML object>"
      ]
     },
     "metadata": {},
     "output_type": "display_data"
    },
    {
     "data": {
      "text/html": [
       "Run data is saved locally in <code>/home/kovalev/frankenstein/notebooks_trainer/wandb/run-20240526_234948-8nkrhi6f</code>"
      ],
      "text/plain": [
       "<IPython.core.display.HTML object>"
      ]
     },
     "metadata": {},
     "output_type": "display_data"
    },
    {
     "data": {
      "text/html": [
       "Syncing run <strong><a href='https://wandb.ai/koval_alvi/vq_brain/runs/8nkrhi6f' target=\"_blank\">4_features_17M_4x_4000_128_ws</a></strong> to <a href='https://wandb.ai/koval_alvi/vq_brain' target=\"_blank\">Weights & Biases</a> (<a href='https://wandb.me/run' target=\"_blank\">docs</a>)<br/>"
      ],
      "text/plain": [
       "<IPython.core.display.HTML object>"
      ]
     },
     "metadata": {},
     "output_type": "display_data"
    },
    {
     "data": {
      "text/html": [
       " View project at <a href='https://wandb.ai/koval_alvi/vq_brain' target=\"_blank\">https://wandb.ai/koval_alvi/vq_brain</a>"
      ],
      "text/plain": [
       "<IPython.core.display.HTML object>"
      ]
     },
     "metadata": {},
     "output_type": "display_data"
    },
    {
     "data": {
      "text/html": [
       " View run at <a href='https://wandb.ai/koval_alvi/vq_brain/runs/8nkrhi6f' target=\"_blank\">https://wandb.ai/koval_alvi/vq_brain/runs/8nkrhi6f</a>"
      ],
      "text/plain": [
       "<IPython.core.display.HTML object>"
      ]
     },
     "metadata": {},
     "output_type": "display_data"
    },
    {
     "name": "stdout",
     "output_type": "stream",
     "text": [
      "Device for training:  cuda\n",
      "Num devices:  1\n",
      "Completed initialization of scheduler\n",
      "*****************************************"
     ]
    }
   ],
   "source": [
    "project_name = 'vq_brain'\n",
    "save_folder = Path(\"/drive/logs/kovalev\")\n",
    "\n",
    "train_config = TrainConfig(exp_name='4_features_17M_4x_4000_128_ws',\n",
    "                           mixed_precision=True, \n",
    "                           batch_size=32,\n",
    "                           grad_accum=4,\n",
    "                           num_workers=3, \n",
    "                           pin_memory=True, \n",
    "                           eval_interval=1000, \n",
    "                           learning_rate=3e-4,\n",
    "                           weight_decay=0, \n",
    "                           grad_clip=10, \n",
    "                           lr_decay_iters=500_000, \n",
    "                           warmup_iters=2000, \n",
    "                           max_steps = 200_000, \n",
    "                           project_name=project_name, \n",
    "                           save_folder=save_folder\n",
    "                          )\n",
    "\n",
    "# model = torch.compile(model)\n",
    "args = (model, (train_dataset, test_dataset), train_config, model_config)\n",
    "notebook_launcher(run_train_model, args, num_processes=1)"
   ]
  },
  {
   "cell_type": "code",
   "execution_count": null,
   "metadata": {},
   "outputs": [],
   "source": []
  },
  {
   "cell_type": "code",
   "execution_count": null,
   "metadata": {},
   "outputs": [],
   "source": []
  },
  {
   "cell_type": "code",
   "execution_count": null,
   "metadata": {},
   "outputs": [],
   "source": []
  },
  {
   "cell_type": "code",
   "execution_count": null,
   "metadata": {},
   "outputs": [],
   "source": [
    "\n",
    "model = model._orig_mod"
   ]
  },
  {
   "cell_type": "code",
   "execution_count": null,
   "metadata": {},
   "outputs": [],
   "source": [
    "model "
   ]
  },
  {
   "cell_type": "code",
   "execution_count": null,
   "metadata": {},
   "outputs": [],
   "source": [
    "x = test_dataset[500][0]\n",
    "\n",
    "x = torch.from_numpy(x[None, :]).to('cuda')\n",
    "\n",
    "# e = model.encoder(x)\n",
    "indices, quantized = model.get_quantize_vectors(x)\n",
    "\n",
    "\n",
    "\n",
    "y = model(x)[1]\n",
    "\n",
    "\n",
    "print(F.l1_loss(y, x))\n",
    "print(F.mse_loss(y, x))\n",
    "\n",
    "x = x.detach().cpu()[0]\n",
    "y = y.detach().cpu()[0]\n",
    "\n",
    "import matplotlib.pyplot as plt\n",
    "plt.plot(y[:, 220], label='recon')\n",
    "# plt.show()\n",
    "plt.plot(x[:, 220])\n",
    "plt.legend()\n",
    "plt.show()\n",
    "plt.imshow(y[:, :].T, aspect='auto', vmin=0, vmax=1)\n",
    "plt.show()\n",
    "plt.imshow(x[:, :].T, aspect='auto', vmin=0, vmax=1)"
   ]
  },
  {
   "cell_type": "code",
   "execution_count": null,
   "metadata": {},
   "outputs": [],
   "source": [
    "quantized = quantized.detach().cpu()\n",
    "indices = indices.detach().cpu()\n",
    "print(quantized.shape)\n",
    "plt.imshow(quantized[64].T)\n",
    "\n",
    "plt.show()\n",
    "plt.imshow(F.one_hot(indices[64].to(torch.long), 1000).T, aspect='auto')\n",
    "plt.show()\n",
    "plt.plot(indices[64])"
   ]
  },
  {
   "cell_type": "code",
   "execution_count": null,
   "metadata": {},
   "outputs": [],
   "source": [
    "plt.imshow(quantized[0][:64].T.cpu().detach(), aspect='auto')"
   ]
  },
  {
   "cell_type": "code",
   "execution_count": null,
   "metadata": {},
   "outputs": [],
   "source": [
    "plt.plot(indices[0].cpu())"
   ]
  },
  {
   "cell_type": "code",
   "execution_count": null,
   "metadata": {},
   "outputs": [],
   "source": []
  }
 ],
 "metadata": {
  "kernelspec": {
   "display_name": "Python [conda env:pytorch]",
   "language": "python",
   "name": "conda-env-pytorch-py"
  },
  "language_info": {
   "codemirror_mode": {
    "name": "ipython",
    "version": 3
   },
   "file_extension": ".py",
   "mimetype": "text/x-python",
   "name": "python",
   "nbconvert_exporter": "python",
   "pygments_lexer": "ipython3",
   "version": "3.10.14"
  }
 },
 "nbformat": 4,
 "nbformat_minor": 4
}
