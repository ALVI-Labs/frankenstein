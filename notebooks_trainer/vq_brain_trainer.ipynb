{
 "cells": [
  {
   "cell_type": "code",
   "execution_count": 1,
   "metadata": {},
   "outputs": [],
   "source": [
    "import os\n",
    "import sys\n",
    "from pathlib import Path\n",
    "sys.path.insert(1, os.path.realpath(os.path.pardir))\n",
    "\n",
    "import torch\n",
    "import torch.nn.functional as F\n",
    "from torch import nn\n",
    "\n",
    "import safetensors\n",
    "from accelerate import notebook_launcher\n",
    "\n",
    "import einops\n",
    "\n",
    "from utils.data_utils import BrainDataset, get_tokenizer\n",
    "from utils.train_utils import TrainConfig, run_train_model, count_parameters, simple_train_model\n",
    "\n",
    "\n",
    "from models.vq_brain import SoundStream\n",
    "from transformers import GPT2Tokenizer\n"
   ]
  },
  {
   "cell_type": "code",
   "execution_count": 2,
   "metadata": {},
   "outputs": [
    {
     "name": "stdout",
     "output_type": "stream",
     "text": [
      "torch.Size([2, 1024, 4])\n",
      "torch.Size([2, 1024])\n"
     ]
    }
   ],
   "source": [
    "import torch\n",
    "from vector_quantize_pytorch import FSQ\n",
    "\n",
    "levels = [8,5,5,5] # see 4.1 and A.4.1 in the paper\n",
    "quantizer = FSQ(levels)\n",
    "\n",
    "x = torch.randn(2, 1024, 4) # 4 since there are 4 levels\n",
    "xhat, indices = quantizer(x)\n",
    "\n",
    "print(xhat.shape)    # (1, 1024, 4) - (batch, seq, dim)\n",
    "print(indices.shape) # (1, 1024)    - (batch, seq)\n",
    "\n",
    "assert xhat.shape == x.shape\n",
    "assert torch.all(xhat == quantizer.indices_to_codes(indices))"
   ]
  },
  {
   "cell_type": "code",
   "execution_count": 3,
   "metadata": {},
   "outputs": [
    {
     "name": "stdout",
     "output_type": "stream",
     "text": [
      "self.codebook_size 15360\n",
      "Total: 85.79M, Trainable: 85.79M\n"
     ]
    },
    {
     "data": {
      "text/plain": [
       "torch.Size([16, 256, 5])"
      ]
     },
     "execution_count": 3,
     "metadata": {},
     "output_type": "execute_result"
    }
   ],
   "source": [
    "config = dict(C=512, D=5, n_electrodes=256, levels=[8, 8, 8, 6, 5])\n",
    "model = SoundStream(**config)\n",
    "count_parameters(model)\n",
    "\n",
    "\n",
    "x = torch.zeros(16, 256, 256)\n",
    "loss, pred = model(x)\n",
    "pred.shape\n",
    "\n",
    "model.get_quantize_vectors(x)[1].shape"
   ]
  },
  {
   "cell_type": "markdown",
   "metadata": {},
   "source": [
    "### Run training pipeline"
   ]
  },
  {
   "cell_type": "code",
   "execution_count": 4,
   "metadata": {},
   "outputs": [
    {
     "name": "stderr",
     "output_type": "stream",
     "text": [
      "/opt/conda/envs/pytorch/lib/python3.10/site-packages/huggingface_hub/file_download.py:1132: FutureWarning: `resume_download` is deprecated and will be removed in version 1.0.0. Downloads always resume when possible. If you want to force a new download, use `force_download=True`.\n",
      "  warnings.warn(\n"
     ]
    },
    {
     "name": "stdout",
     "output_type": "stream",
     "text": [
      "Runed processing of the  /drive/data/competitionData/train\n",
      "len: 8800\n",
      "max input len 256\n",
      "Runed processing of the  /drive/data/competitionData/test\n",
      "len: 880\n",
      "max input len 256\n",
      "Launching training on one GPU.\n"
     ]
    },
    {
     "name": "stderr",
     "output_type": "stream",
     "text": [
      "/opt/conda/envs/pytorch/lib/python3.10/site-packages/accelerate/accelerator.py:446: FutureWarning: Passing the following arguments to `Accelerator` is deprecated and will be removed in version 1.0 of Accelerate: dict_keys(['split_batches']). Please pass an `accelerate.DataLoaderConfiguration` instead: \n",
      "dataloader_config = DataLoaderConfiguration(split_batches=True)\n",
      "  warnings.warn(\n",
      "\u001b[34m\u001b[1mwandb\u001b[0m: Currently logged in as: \u001b[33mkoval_alvi\u001b[0m. Use \u001b[1m`wandb login --relogin`\u001b[0m to force relogin\n"
     ]
    },
    {
     "data": {
      "text/html": [
       "wandb version 0.17.0 is available!  To upgrade, please run:\n",
       " $ pip install wandb --upgrade"
      ],
      "text/plain": [
       "<IPython.core.display.HTML object>"
      ]
     },
     "metadata": {},
     "output_type": "display_data"
    },
    {
     "data": {
      "text/html": [
       "Tracking run with wandb version 0.16.6"
      ],
      "text/plain": [
       "<IPython.core.display.HTML object>"
      ]
     },
     "metadata": {},
     "output_type": "display_data"
    },
    {
     "data": {
      "text/html": [
       "Run data is saved locally in <code>/home/kovalev/frankenstein/notebooks_trainer/wandb/run-20240512_141702-niqetjyn</code>"
      ],
      "text/plain": [
       "<IPython.core.display.HTML object>"
      ]
     },
     "metadata": {},
     "output_type": "display_data"
    },
    {
     "data": {
      "text/html": [
       "Syncing run <strong><a href='https://wandb.ai/koval_alvi/vq_brain/runs/niqetjyn' target=\"_blank\">spikes_minmax_fsq_85M_ws_256_l1</a></strong> to <a href='https://wandb.ai/koval_alvi/vq_brain' target=\"_blank\">Weights & Biases</a> (<a href='https://wandb.me/run' target=\"_blank\">docs</a>)<br/>"
      ],
      "text/plain": [
       "<IPython.core.display.HTML object>"
      ]
     },
     "metadata": {},
     "output_type": "display_data"
    },
    {
     "data": {
      "text/html": [
       " View project at <a href='https://wandb.ai/koval_alvi/vq_brain' target=\"_blank\">https://wandb.ai/koval_alvi/vq_brain</a>"
      ],
      "text/plain": [
       "<IPython.core.display.HTML object>"
      ]
     },
     "metadata": {},
     "output_type": "display_data"
    },
    {
     "data": {
      "text/html": [
       " View run at <a href='https://wandb.ai/koval_alvi/vq_brain/runs/niqetjyn' target=\"_blank\">https://wandb.ai/koval_alvi/vq_brain/runs/niqetjyn</a>"
      ],
      "text/plain": [
       "<IPython.core.display.HTML object>"
      ]
     },
     "metadata": {},
     "output_type": "display_data"
    },
    {
     "name": "stdout",
     "output_type": "stream",
     "text": [
      "Device for training:  cuda\n",
      "Num devices:  1\n",
      "Completed initialization of scheduler\n",
      "****************************************************************************************************************************************************************************************************************************************************************************************************************************************************************************************************************************************************************************************************************************************************************************************************************************************************************************************************************************************************************************************************************************************************************************************************************************************************************************************************************************************\n",
      "overall_steps 1000: 0.08740950375795364\n",
      "val loss: 0.08784875273704529\n",
      "saved model:  step_1000_loss_0.0878.safetensors\n",
      "************************************************************************************************************************************************************************************************************************************************************************************************************************************************"
     ]
    },
    {
     "ename": "KeyboardInterrupt",
     "evalue": "",
     "output_type": "error",
     "traceback": [
      "\u001b[0;31m---------------------------------------------------------------------------\u001b[0m",
      "\u001b[0;31mKeyboardInterrupt\u001b[0m                         Traceback (most recent call last)",
      "Cell \u001b[0;32mIn[4], line 35\u001b[0m\n\u001b[1;32m     29\u001b[0m \u001b[38;5;66;03m# indices = torch.arange(128)\u001b[39;00m\n\u001b[1;32m     30\u001b[0m \u001b[38;5;66;03m# train_dataset = torch.utils.data.Subset(test_dataset, indices)\u001b[39;00m\n\u001b[1;32m     31\u001b[0m \u001b[38;5;66;03m# test_dataset = torch.utils.data.Subset(test_dataset, indices)\u001b[39;00m\n\u001b[1;32m     32\u001b[0m \n\u001b[1;32m     33\u001b[0m \u001b[38;5;66;03m# model = torch.compile(model)\u001b[39;00m\n\u001b[1;32m     34\u001b[0m args \u001b[38;5;241m=\u001b[39m (model, (train_dataset, test_dataset), train_config, project_name, save_folder)\n\u001b[0;32m---> 35\u001b[0m \u001b[43mnotebook_launcher\u001b[49m\u001b[43m(\u001b[49m\u001b[43mrun_train_model\u001b[49m\u001b[43m,\u001b[49m\u001b[43m \u001b[49m\u001b[43margs\u001b[49m\u001b[43m,\u001b[49m\u001b[43m \u001b[49m\u001b[43mnum_processes\u001b[49m\u001b[38;5;241;43m=\u001b[39;49m\u001b[38;5;241;43m1\u001b[39;49m\u001b[43m)\u001b[49m\n",
      "File \u001b[0;32m/opt/conda/envs/pytorch/lib/python3.10/site-packages/accelerate/launchers.py:222\u001b[0m, in \u001b[0;36mnotebook_launcher\u001b[0;34m(function, args, num_processes, mixed_precision, use_port, master_addr, node_rank, num_nodes)\u001b[0m\n\u001b[1;32m    220\u001b[0m \u001b[38;5;28;01melse\u001b[39;00m:\n\u001b[1;32m    221\u001b[0m     \u001b[38;5;28mprint\u001b[39m(\u001b[38;5;124m\"\u001b[39m\u001b[38;5;124mLaunching training on CPU.\u001b[39m\u001b[38;5;124m\"\u001b[39m)\n\u001b[0;32m--> 222\u001b[0m \u001b[43mfunction\u001b[49m\u001b[43m(\u001b[49m\u001b[38;5;241;43m*\u001b[39;49m\u001b[43margs\u001b[49m\u001b[43m)\u001b[49m\n",
      "File \u001b[0;32m/home/kovalev/frankenstein/utils/train_utils.py:148\u001b[0m, in \u001b[0;36mrun_train_model\u001b[0;34m(model, datasets, config, project_name, save_folder)\u001b[0m\n\u001b[1;32m    146\u001b[0m overall_step \u001b[38;5;241m+\u001b[39m\u001b[38;5;241m=\u001b[39m \u001b[38;5;241m1\u001b[39m\n\u001b[1;32m    147\u001b[0m accelerator\u001b[38;5;241m.\u001b[39mprint(\u001b[38;5;124m'\u001b[39m\u001b[38;5;124m*\u001b[39m\u001b[38;5;124m'\u001b[39m, end \u001b[38;5;241m=\u001b[39m \u001b[38;5;124m'\u001b[39m\u001b[38;5;124m'\u001b[39m)\n\u001b[0;32m--> 148\u001b[0m accelerator\u001b[38;5;241m.\u001b[39mlog({\u001b[38;5;124m'\u001b[39m\u001b[38;5;124mtrain/loss\u001b[39m\u001b[38;5;124m'\u001b[39m: \u001b[43mloss\u001b[49m\u001b[38;5;241;43m.\u001b[39;49m\u001b[43mitem\u001b[49m\u001b[43m(\u001b[49m\u001b[43m)\u001b[49m, \n\u001b[1;32m    149\u001b[0m                  \u001b[38;5;124m'\u001b[39m\u001b[38;5;124mlr\u001b[39m\u001b[38;5;124m'\u001b[39m: lr}, step\u001b[38;5;241m=\u001b[39moverall_step)\n\u001b[1;32m    151\u001b[0m \u001b[38;5;28;01mif\u001b[39;00m (overall_step \u001b[38;5;241m%\u001b[39m config\u001b[38;5;241m.\u001b[39meval_interval) \u001b[38;5;241m==\u001b[39m \u001b[38;5;241m0\u001b[39m \u001b[38;5;129;01mand\u001b[39;00m accelerator\u001b[38;5;241m.\u001b[39mis_main_process:\n\u001b[1;32m    152\u001b[0m     model\u001b[38;5;241m.\u001b[39meval()\n",
      "\u001b[0;31mKeyboardInterrupt\u001b[0m: "
     ]
    }
   ],
   "source": [
    "project_name = 'vq_brain'\n",
    "\n",
    "train_config = TrainConfig(exp_name='spikes_minmax_fsq_85M_ws_256_l1',\n",
    "                           mixed_precision=False, \n",
    "                           batch_size=32, \n",
    "                           num_workers=3, \n",
    "                           pin_memory=True, \n",
    "                           eval_interval=1000, \n",
    "                           learning_rate=3e-4,\n",
    "                           weight_decay=0, \n",
    "                           grad_clip=100, \n",
    "                           lr_decay_iters=50_000, \n",
    "                           warmup_iters=100\n",
    "                          )\n",
    "# peter path\n",
    "# data_path = Path(r'C:\\Users\\peter\\alvi\\brain2text\\competitionData')\n",
    "\n",
    "# data_path = Path(r'D:\\Work\\brain-to-text-competition\\data\\competitionData')\n",
    "\n",
    "data_path = Path(\"/drive/data/competitionData\")\n",
    "save_folder = Path(\"/drive/logs/kovalev\")\n",
    "\n",
    "tokenizer = GPT2Tokenizer.from_pretrained('gpt2')\n",
    "\n",
    "\n",
    "train_dataset = BrainDataset(data_path / 'train', tokenize_function=get_tokenizer(tokenizer), max_input_len=256)\n",
    "test_dataset = BrainDataset(data_path / 'test', tokenize_function=get_tokenizer(tokenizer), max_input_len=256)\n",
    "\n",
    "# indices = torch.arange(128)\n",
    "# train_dataset = torch.utils.data.Subset(test_dataset, indices)\n",
    "# test_dataset = torch.utils.data.Subset(test_dataset, indices)\n",
    "\n",
    "# model = torch.compile(model)\n",
    "args = (model, (train_dataset, test_dataset), train_config, project_name, save_folder)\n",
    "notebook_launcher(run_train_model, args, num_processes=1)"
   ]
  },
  {
   "cell_type": "code",
   "execution_count": null,
   "metadata": {},
   "outputs": [],
   "source": [
    "\n",
    "# model = model._orig_mod"
   ]
  },
  {
   "cell_type": "code",
   "execution_count": null,
   "metadata": {},
   "outputs": [],
   "source": []
  },
  {
   "cell_type": "code",
   "execution_count": null,
   "metadata": {},
   "outputs": [],
   "source": [
    "x = train_dataset[0][0]\n",
    "\n",
    "x = torch.from_numpy(x[None, :]).to('cuda')\n",
    "\n",
    "e = model.encoder(x)\n",
    "quantized, indices = model.quantizer(e)\n",
    "\n",
    "\n",
    "\n",
    "y = model(x)[1]\n",
    "\n",
    "\n",
    "print(F.l1_loss(y, x))\n",
    "print(F.mse_loss(y, x))\n",
    "\n",
    "x = x.detach().cpu()[0]\n",
    "y = y.detach().cpu()[0]\n",
    "\n",
    "import matplotlib.pyplot as plt\n",
    "plt.plot(y[:, 3])\n",
    "# plt.show()\n",
    "plt.plot(x[:, 3])\n",
    "plt.show()\n",
    "plt.imshow(y[:64, :].T, aspect='auto')\n",
    "plt.show()\n",
    "plt.imshow(x[:64, :].T, aspect='auto')"
   ]
  },
  {
   "cell_type": "code",
   "execution_count": null,
   "metadata": {},
   "outputs": [],
   "source": [
    "indices.shape"
   ]
  },
  {
   "cell_type": "code",
   "execution_count": null,
   "metadata": {},
   "outputs": [],
   "source": [
    "plt.imshow(quantized[0][:64].T.cpu().detach(), aspect='auto')"
   ]
  },
  {
   "cell_type": "code",
   "execution_count": null,
   "metadata": {},
   "outputs": [],
   "source": [
    "plt.plot(indices[0].cpu())"
   ]
  },
  {
   "cell_type": "code",
   "execution_count": null,
   "metadata": {},
   "outputs": [],
   "source": []
  },
  {
   "cell_type": "code",
   "execution_count": null,
   "metadata": {},
   "outputs": [],
   "source": []
  },
  {
   "cell_type": "code",
   "execution_count": null,
   "metadata": {},
   "outputs": [],
   "source": []
  },
  {
   "cell_type": "code",
   "execution_count": null,
   "metadata": {},
   "outputs": [],
   "source": []
  },
  {
   "cell_type": "code",
   "execution_count": null,
   "metadata": {},
   "outputs": [],
   "source": []
  },
  {
   "cell_type": "code",
   "execution_count": null,
   "metadata": {},
   "outputs": [],
   "source": []
  },
  {
   "cell_type": "code",
   "execution_count": null,
   "metadata": {},
   "outputs": [],
   "source": []
  },
  {
   "cell_type": "code",
   "execution_count": null,
   "metadata": {},
   "outputs": [],
   "source": []
  },
  {
   "cell_type": "code",
   "execution_count": null,
   "metadata": {},
   "outputs": [],
   "source": []
  },
  {
   "cell_type": "code",
   "execution_count": null,
   "metadata": {},
   "outputs": [],
   "source": []
  },
  {
   "cell_type": "markdown",
   "metadata": {},
   "source": []
  }
 ],
 "metadata": {
  "kernelspec": {
   "display_name": "Python [conda env:pytorch]",
   "language": "python",
   "name": "conda-env-pytorch-py"
  },
  "language_info": {
   "codemirror_mode": {
    "name": "ipython",
    "version": 3
   },
   "file_extension": ".py",
   "mimetype": "text/x-python",
   "name": "python",
   "nbconvert_exporter": "python",
   "pygments_lexer": "ipython3",
   "version": "3.10.14"
  }
 },
 "nbformat": 4,
 "nbformat_minor": 4
}
