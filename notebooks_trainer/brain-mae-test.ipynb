{
 "cells": [
  {
   "cell_type": "code",
   "execution_count": null,
   "metadata": {},
   "outputs": [],
   "source": [
    "import os\n",
    "import sys\n",
    "from pathlib import Path\n",
    "sys.path.insert(1, os.path.realpath(os.path.pardir))\n",
    "\n",
    "import torch\n",
    "\n",
    "from accelerate import notebook_launcher\n",
    "\n",
    "from utils.data_utils import BrainDataset, process_file_last\n",
    "from utils.train_utils import TrainConfig, run_train_model, count_parameters, load_model_weights\n",
    "\n",
    "from dataclasses import dataclass\n",
    "from simple_parsing.helpers import Serializable\n",
    "\n",
    "import albumentations as A\n",
    "\n",
    "import matplotlib.pyplot as plt\n",
    "import gc"
   ]
  },
  {
   "cell_type": "code",
   "execution_count": null,
   "metadata": {},
   "outputs": [],
   "source": [
    "from models.brain_mae import EncoderConfig, Encoder, MAE, MAEConfig"
   ]
  },
  {
   "cell_type": "markdown",
   "metadata": {},
   "source": [
    "### Init models"
   ]
  },
  {
   "cell_type": "code",
   "execution_count": null,
   "metadata": {},
   "outputs": [],
   "source": [
    "encoder_config = EncoderConfig()\n",
    "mae_config = MAEConfig()\n",
    "model = MAE(encoder_config=encoder_config, mae_config=mae_config)\n"
   ]
  },
  {
   "cell_type": "code",
   "execution_count": null,
   "metadata": {},
   "outputs": [],
   "source": [
    "window_size = encoder_config.window_size\n",
    "n_electrodes = 256 * 4\n",
    "max_tokens = 25\n",
    "\n",
    "train_transform = A.Compose([\n",
    "    A.RandomCrop(height=window_size, width=n_electrodes, always_apply=True),\n",
    "])\n",
    "\n",
    "test_transform = A.Compose([\n",
    "    A.PadIfNeeded(min_height=window_size, min_width=n_electrodes, position='top_left', \n",
    "                  border_mode=0, value=0, always_apply=True),\n",
    "    A.Crop(x_min=0, x_max=n_electrodes, y_min=0, y_max=window_size, always_apply=True)\n",
    "])\n",
    "\n",
    "data_path = Path(\"/drive/data/competitionData\")\n",
    "\n",
    "tokenize_function = None\n",
    "process_file_function = process_file_last\n",
    "\n",
    "train_dataset = BrainDataset(data_path / 'train', \n",
    "                             process_file_function=process_file_function, \n",
    "                             tokenize_function=tokenize_function, \n",
    "                             transform=train_transform, \n",
    "                             max_tokens=max_tokens)\n",
    "\n",
    "gc.collect()\n",
    "test_dataset = BrainDataset(data_path / 'test', \n",
    "                            process_file_function=process_file_function, \n",
    "                            tokenize_function=tokenize_function, \n",
    "                            transform=test_transform, \n",
    "                            max_tokens=max_tokens)\n",
    "\n",
    "\n",
    "submit_dataset = BrainDataset(data_path / 'competitionHoldOut', \n",
    "                            process_file_function=process_file_function, \n",
    "                            tokenize_function=tokenize_function, \n",
    "                            transform=test_transform, \n",
    "                            max_tokens=max_tokens)\n",
    "\n",
    "gc.collect()\n",
    "\n",
    "\n",
    "train_dataset = torch.utils.data.ConcatDataset([train_dataset, test_dataset, submit_dataset])\n",
    "test_dataset = submit_dataset\n",
    "print(len(train_dataset))"
   ]
  },
  {
   "cell_type": "code",
   "execution_count": null,
   "metadata": {},
   "outputs": [],
   "source": [
    "test_dataloader = torch.utils.data.DataLoader(test_dataset, batch_size=1, shuffle=False)\n",
    "\n",
    "x, y, date = next(iter(test_dataloader))\n",
    "print(x.shape, y.shape, date.shape)\n",
    "\n",
    "loss, logits = model(x, y, date)\n"
   ]
  },
  {
   "cell_type": "markdown",
   "metadata": {},
   "source": [
    "### Load datasets"
   ]
  },
  {
   "cell_type": "code",
   "execution_count": null,
   "metadata": {},
   "outputs": [],
   "source": [
    "project_name = 'simple_mae'\n",
    "save_folder = Path(\"/drive/logs/kovalev\")\n",
    "\n",
    "train_config = TrainConfig(exp_name='brain-mae-full-datasets',\n",
    "                           mixed_precision=True,\n",
    "                           batch_size=256, \n",
    "                           grad_accum=8,\n",
    "                           num_workers=3,\n",
    "                           pin_memory=True, \n",
    "                           eval_interval=250, \n",
    "                           learning_rate=1e-4,\n",
    "                           weight_decay=0, \n",
    "                           grad_clip=10,\n",
    "                           lr_decay_iters=20_000, \n",
    "                           warmup_iters=1000, \n",
    "                           project_name=project_name, \n",
    "                           save_folder=save_folder\n",
    "                          )\n",
    "\n",
    "model = torch.compile(model)\n",
    "\n",
    "train_dataset = torch.utils.data.Subset(train_dataset, torch.arange(256))\n",
    "args = (model, (train_dataset, test_dataset), train_config, encoder_config)\n",
    "notebook_launcher(run_train_model, args, num_processes=1)"
   ]
  },
  {
   "cell_type": "code",
   "execution_count": null,
   "metadata": {},
   "outputs": [],
   "source": [
    "all_features = []\n",
    "test_dataloader = torch.utils.data.DataLoader(test_dataset, batch_size=1, shuffle=False)\n",
    "\n",
    "for x, y, date in test_dataloader:\n",
    "    x = x.to('cuda')\n",
    "    date = date.to('cuda')\n",
    "    features = model.encoder(x, date_info=date)\n",
    "    all_features.extend(features)"
   ]
  },
  {
   "cell_type": "code",
   "execution_count": null,
   "metadata": {},
   "outputs": [],
   "source": [
    "def visualize_data(x, recon, binary_mask):\n",
    "    x_masked_input = binary_mask * x\n",
    "    x_unmasked_input = ~binary_mask * x\n",
    "\n",
    "    recon_masked = binary_mask * recon\n",
    "    recon_unmasked = ~binary_mask * recon\n",
    "\n",
    "\n",
    "    t_st, t_end = 64, 128\n",
    "    c_st, c_end = 0, 32\n",
    "\n",
    "    fig, ax = plt.subplots(3,2, figsize = (16, 16))\n",
    "    ax[0, 0].imshow(x[0, t_st:t_end, c_st:c_end].T, vmax=1)\n",
    "    ax[1, 0].imshow(x_unmasked_input[0, t_st:t_end, c_st:c_end].T, vmax=1)\n",
    "    ax[2, 0].imshow(x_masked_input[0, t_st:t_end, c_st:c_end].T, vmax=1)\n",
    "\n",
    "    ax[0, 1].imshow(recon[0, t_st:t_end, c_st:c_end].T, vmax=1)\n",
    "    ax[1, 1].imshow(recon_unmasked[0, t_st:t_end, c_st:c_end].T, vmax=1)\n",
    "    ax[2, 1].imshow(recon_masked[0, t_st:t_end, c_st:c_end].T, vmax=1)\n"
   ]
  }
 ],
 "metadata": {
  "kernelspec": {
   "display_name": "Python [conda env:pytorch]",
   "language": "python",
   "name": "conda-env-pytorch-py"
  },
  "language_info": {
   "codemirror_mode": {
    "name": "ipython",
    "version": 3
   },
   "file_extension": ".py",
   "mimetype": "text/x-python",
   "name": "python",
   "nbconvert_exporter": "python",
   "pygments_lexer": "ipython3",
   "version": "3.10.14"
  }
 },
 "nbformat": 4,
 "nbformat_minor": 4
}
