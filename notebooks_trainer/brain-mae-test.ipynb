{
 "cells": [
  {
   "cell_type": "code",
   "execution_count": null,
   "metadata": {},
   "outputs": [],
   "source": [
    "import os\n",
    "import sys\n",
    "from pathlib import Path\n",
    "sys.path.insert(1, os.path.realpath(os.path.pardir))\n",
    "\n",
    "import torch\n",
    "import torch.nn.functional as F\n",
    "from torch import nn\n",
    "\n",
    "import safetensors\n",
    "from accelerate import notebook_launcher\n",
    "\n",
    "from utils.data_utils import BrainDataset, get_tokenizer\n",
    "from utils.train_utils import TrainConfig, run_train_model, count_parameters, load_model_weights\n",
    "\n",
    "from dataclasses import dataclass\n",
    "from simple_parsing.helpers import Serializable\n",
    "\n",
    "from safetensors.torch import load_model\n",
    "import albumentations as A\n",
    "\n",
    "import matplotlib.pyplot as plt"
   ]
  },
  {
   "cell_type": "code",
   "execution_count": null,
   "metadata": {},
   "outputs": [],
   "source": [
    "from models.brain_mae import EncoderConfig, Encoder, MAE, MAEConfig"
   ]
  },
  {
   "cell_type": "markdown",
   "metadata": {},
   "source": [
    "## Init brain module"
   ]
  },
  {
   "cell_type": "code",
   "execution_count": null,
   "metadata": {},
   "outputs": [],
   "source": [
    "encoder_config = EncoderConfig()\n",
    "mae_config = MAEConfig()\n",
    "model = MAE(encoder_config=encoder_config, mae_config=mae_config)\n"
   ]
  },
  {
   "cell_type": "markdown",
   "metadata": {},
   "source": [
    "## Init language model"
   ]
  },
  {
   "cell_type": "code",
   "execution_count": null,
   "metadata": {},
   "outputs": [],
   "source": [
    "from transformers import GPT2Tokenizer\n",
    "\n",
    "tokenizer = GPT2Tokenizer.from_pretrained('gpt2-medium')"
   ]
  },
  {
   "cell_type": "code",
   "execution_count": null,
   "metadata": {},
   "outputs": [],
   "source": [
    "window_size = encoder_config.window_size\n",
    "n_electrodes = 256\n",
    "\n",
    "train_transform = A.Compose([\n",
    "    \n",
    "    # A.CoarseDropout(fill_value=0, p=0.5),\n",
    "    # A.MultiplicativeNoise(multiplier=(0.9, 1.1), p=0.5),\n",
    "    # A.GaussNoise(var_limit=0.005, mean=0, p=0.5),\n",
    "\n",
    "    # A.PadIfNeeded(min_height=window_size, min_width=n_electrodes, position='top_left', \n",
    "    #               border_mode=0, value=0, always_apply=True),\n",
    "    A.RandomCrop(height=window_size, width=n_electrodes, always_apply=True),\n",
    "    # A.Crop(x_min=0, x_max=n_electrodes, y_min=0, y_max=window_size, always_apply=True),\n",
    "\n",
    "])\n",
    "\n",
    "test_transform = A.Compose([\n",
    "    A.PadIfNeeded(min_height=window_size, min_width=n_electrodes, position='top_left', \n",
    "                  border_mode=0, value=0, always_apply=True),\n",
    "    A.Crop(x_min=0, x_max=n_electrodes, y_min=0, y_max=window_size, always_apply=True)\n",
    "])\n",
    "\n",
    "\n",
    "data_path = Path(\"/drive/data/competitionData\")\n",
    "\n",
    "train_dataset = BrainDataset(data_path / 'train', tokenize_function=get_tokenizer(tokenizer), transform=train_transform)\n",
    "test_dataset = BrainDataset(data_path / 'test', tokenize_function=get_tokenizer(tokenizer), transform=test_transform)"
   ]
  },
  {
   "cell_type": "code",
   "execution_count": null,
   "metadata": {},
   "outputs": [],
   "source": [
    "test_dataloader = torch.utils.data.DataLoader(test_dataset, batch_size=1, shuffle=False)\n",
    "\n",
    "x, y, date = next(iter(test_dataloader))\n",
    "loss, logits = model(x, y, date)\n",
    "\n",
    "print(x.shape, y.shape, date)\n",
    "plt.imshow(x.detach()[0].T)\n",
    "plt.show()"
   ]
  },
  {
   "cell_type": "markdown",
   "metadata": {},
   "source": [
    "# Work with data"
   ]
  },
  {
   "cell_type": "code",
   "execution_count": null,
   "metadata": {},
   "outputs": [],
   "source": [
    "project_name = 'brain-mae'\n",
    "save_folder = Path(\"/drive/logs/kovalev\")\n",
    "\n",
    "train_config = TrainConfig(exp_name='mae-test-one',\n",
    "                           mixed_precision=True,\n",
    "                           batch_size=128, \n",
    "                           grad_accum=8,\n",
    "                           num_workers=3,\n",
    "                           pin_memory=True, \n",
    "                           eval_interval=250, \n",
    "                           learning_rate=1e-3,\n",
    "                           weight_decay=0, \n",
    "                           grad_clip=5,\n",
    "                           lr_decay_iters=20_000, \n",
    "                           warmup_iters=1000, \n",
    "                           project_name=project_name, \n",
    "                           save_folder=save_folder\n",
    "                          )\n",
    "\n",
    "\n",
    "args = (model, (train_dataset, test_dataset), train_config, encoder_config)\n",
    "notebook_launcher(run_train_model, args, num_processes=1)"
   ]
  },
  {
   "cell_type": "code",
   "execution_count": null,
   "metadata": {},
   "outputs": [],
   "source": []
  }
 ],
 "metadata": {
  "kernelspec": {
   "display_name": "Python [conda env:pytorch]",
   "language": "python",
   "name": "conda-env-pytorch-py"
  },
  "language_info": {
   "codemirror_mode": {
    "name": "ipython",
    "version": 3
   },
   "file_extension": ".py",
   "mimetype": "text/x-python",
   "name": "python",
   "nbconvert_exporter": "python",
   "pygments_lexer": "ipython3",
   "version": "3.10.14"
  }
 },
 "nbformat": 4,
 "nbformat_minor": 4
}
