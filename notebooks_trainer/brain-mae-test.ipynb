{
 "cells": [
  {
   "cell_type": "code",
   "execution_count": 1,
   "metadata": {},
   "outputs": [
    {
     "name": "stderr",
     "output_type": "stream",
     "text": [
      "INFO:albumentations.check_version:A new version of Albumentations is available: 1.4.8 (you have 1.4.7). Upgrade using: pip install --upgrade albumentations\n"
     ]
    }
   ],
   "source": [
    "import os\n",
    "import sys\n",
    "from pathlib import Path\n",
    "sys.path.insert(1, os.path.realpath(os.path.pardir))\n",
    "\n",
    "import torch\n",
    "\n",
    "from accelerate import notebook_launcher\n",
    "\n",
    "from utils.data_utils import BrainDataset, process_file_last\n",
    "from utils.train_utils import TrainConfig, run_train_model, count_parameters, load_model_weights\n",
    "\n",
    "from dataclasses import dataclass\n",
    "from simple_parsing.helpers import Serializable\n",
    "\n",
    "import albumentations as A\n",
    "\n",
    "import matplotlib.pyplot as plt\n",
    "import gc"
   ]
  },
  {
   "cell_type": "code",
   "execution_count": 2,
   "metadata": {},
   "outputs": [],
   "source": [
    "from models.brain_mae import EncoderConfig, Encoder, MAE, MAEConfig"
   ]
  },
  {
   "cell_type": "markdown",
   "metadata": {},
   "source": [
    "### Init models"
   ]
  },
  {
   "cell_type": "code",
   "execution_count": 3,
   "metadata": {},
   "outputs": [
    {
     "name": "stdout",
     "output_type": "stream",
     "text": [
      "EncoderConfig(window_size=16, n_electrodes=256, time_patch_size=4, n_features=4, n_layers=12, dim=512, hidden_dim=2048, head_dim=32, n_heads=16, n_kv_heads=16)\n",
      "Simple Encoder: number of parameters: 50.50M\n",
      "mae_config MAEConfig(masking_ratio=0.5, n_layers=6, dim=512, hidden_dim=2048, head_dim=32, n_heads=16, n_kv_heads=16)\n",
      "Full MAE: number of parameters: 75.94M\n"
     ]
    }
   ],
   "source": [
    "encoder_config = EncoderConfig()\n",
    "mae_config = MAEConfig()\n",
    "model = MAE(encoder_config=encoder_config, mae_config=mae_config)\n"
   ]
  },
  {
   "cell_type": "code",
   "execution_count": 4,
   "metadata": {},
   "outputs": [
    {
     "name": "stdout",
     "output_type": "stream",
     "text": [
      "Runed processing of the  /drive/data/competitionData/train\n"
     ]
    },
    {
     "name": "stderr",
     "output_type": "stream",
     "text": [
      "Processing files: 100%|██████████| 24/24 [00:33<00:00,  1.39s/file]\n"
     ]
    },
    {
     "name": "stdout",
     "output_type": "stream",
     "text": [
      "len of the dataset: 8800\n",
      "max signal size: 906 | max tokens size: 87\n",
      "median signal size: 297.0 | median tokens size: 31.0\n",
      "Runed processing of the  /drive/data/competitionData/test\n"
     ]
    },
    {
     "name": "stderr",
     "output_type": "stream",
     "text": [
      "Processing files: 100%|██████████| 24/24 [00:03<00:00,  7.73file/s]\n"
     ]
    },
    {
     "name": "stdout",
     "output_type": "stream",
     "text": [
      "len of the dataset: 880\n",
      "max signal size: 919 | max tokens size: 86\n",
      "median signal size: 283.5 | median tokens size: 30.0\n",
      "Runed processing of the  /drive/data/competitionData/competitionHoldOut\n"
     ]
    },
    {
     "name": "stderr",
     "output_type": "stream",
     "text": [
      "Processing files: 100%|██████████| 15/15 [00:04<00:00,  3.59file/s]\n"
     ]
    },
    {
     "name": "stdout",
     "output_type": "stream",
     "text": [
      "len of the dataset: 1200\n",
      "max signal size: 594 | max tokens size: 8\n",
      "median signal size: 290.5 | median tokens size: 8.0\n",
      "10880\n"
     ]
    }
   ],
   "source": [
    "data_path = Path(\"/drive/data/competitionData\")\n",
    "\n",
    "tokenize_function = None\n",
    "process_file_function = process_file_last\n",
    "\n",
    "window_size = encoder_config.window_size\n",
    "n_electrodes = 256 * 4\n",
    "max_tokens = 25\n",
    "\n",
    "train_transform = A.Compose([\n",
    "    A.RandomCrop(height=window_size, width=n_electrodes, always_apply=True),\n",
    "])\n",
    "\n",
    "test_transform = A.Compose([\n",
    "    A.PadIfNeeded(min_height=window_size, min_width=n_electrodes, position='top_left', \n",
    "                  border_mode=0, value=0, always_apply=True),\n",
    "    A.Crop(x_min=0, x_max=n_electrodes, y_min=0, y_max=window_size, always_apply=True)\n",
    "])\n",
    "\n",
    "\n",
    "\n",
    "train_dataset = BrainDataset(data_path / 'train', \n",
    "                             process_file_function=process_file_function, \n",
    "                             tokenize_function=tokenize_function, \n",
    "                             transform=train_transform, \n",
    "                             max_tokens=max_tokens)\n",
    "\n",
    "gc.collect()\n",
    "test_dataset = BrainDataset(data_path / 'test', \n",
    "                            process_file_function=process_file_function, \n",
    "                            tokenize_function=tokenize_function, \n",
    "                            transform=test_transform, \n",
    "                            max_tokens=max_tokens)\n",
    "\n",
    "\n",
    "submit_dataset = BrainDataset(data_path / 'competitionHoldOut', \n",
    "                            process_file_function=process_file_function, \n",
    "                            tokenize_function=tokenize_function, \n",
    "                            transform=test_transform, \n",
    "                            max_tokens=max_tokens)\n",
    "\n",
    "gc.collect()\n",
    "\n",
    "\n",
    "train_dataset = torch.utils.data.ConcatDataset([train_dataset, test_dataset, submit_dataset])\n",
    "test_dataset = submit_dataset\n",
    "print(len(train_dataset))"
   ]
  },
  {
   "cell_type": "code",
   "execution_count": 5,
   "metadata": {},
   "outputs": [],
   "source": [
    "test_dataloader = torch.utils.data.DataLoader(test_dataset, batch_size=1, shuffle=False)\n",
    "\n",
    "x, y, date = next(iter(test_dataloader))\n",
    "# print(x.shape, y.shape, date.shape)\n",
    "\n",
    "loss, logits = model(x, y, date)\n"
   ]
  },
  {
   "cell_type": "markdown",
   "metadata": {},
   "source": [
    "### Load datasets"
   ]
  },
  {
   "cell_type": "code",
   "execution_count": null,
   "metadata": {},
   "outputs": [
    {
     "name": "stdout",
     "output_type": "stream",
     "text": [
      "Launching training on one GPU.\n"
     ]
    },
    {
     "name": "stderr",
     "output_type": "stream",
     "text": [
      "/opt/conda/envs/pytorch/lib/python3.10/site-packages/accelerate/accelerator.py:446: FutureWarning: Passing the following arguments to `Accelerator` is deprecated and will be removed in version 1.0 of Accelerate: dict_keys(['split_batches']). Please pass an `accelerate.DataLoaderConfiguration` instead: \n",
      "dataloader_config = DataLoaderConfiguration(split_batches=True)\n",
      "  warnings.warn(\n",
      "\u001b[34m\u001b[1mwandb\u001b[0m: Currently logged in as: \u001b[33mkoval_alvi\u001b[0m. Use \u001b[1m`wandb login --relogin`\u001b[0m to force relogin\n"
     ]
    },
    {
     "data": {
      "text/html": [
       "wandb version 0.17.0 is available!  To upgrade, please run:\n",
       " $ pip install wandb --upgrade"
      ],
      "text/plain": [
       "<IPython.core.display.HTML object>"
      ]
     },
     "metadata": {},
     "output_type": "display_data"
    },
    {
     "data": {
      "text/html": [
       "Tracking run with wandb version 0.16.6"
      ],
      "text/plain": [
       "<IPython.core.display.HTML object>"
      ]
     },
     "metadata": {},
     "output_type": "display_data"
    },
    {
     "data": {
      "text/html": [
       "Run data is saved locally in <code>/home/kovalev/frankenstein/notebooks_trainer/wandb/run-20240530_015055-67edkjzm</code>"
      ],
      "text/plain": [
       "<IPython.core.display.HTML object>"
      ]
     },
     "metadata": {},
     "output_type": "display_data"
    },
    {
     "data": {
      "text/html": [
       "Syncing run <strong><a href='https://wandb.ai/koval_alvi/simple_mae/runs/67edkjzm' target=\"_blank\">brain-mae-full-datasets-train</a></strong> to <a href='https://wandb.ai/koval_alvi/simple_mae' target=\"_blank\">Weights & Biases</a> (<a href='https://wandb.me/run' target=\"_blank\">docs</a>)<br/>"
      ],
      "text/plain": [
       "<IPython.core.display.HTML object>"
      ]
     },
     "metadata": {},
     "output_type": "display_data"
    },
    {
     "data": {
      "text/html": [
       " View project at <a href='https://wandb.ai/koval_alvi/simple_mae' target=\"_blank\">https://wandb.ai/koval_alvi/simple_mae</a>"
      ],
      "text/plain": [
       "<IPython.core.display.HTML object>"
      ]
     },
     "metadata": {},
     "output_type": "display_data"
    },
    {
     "data": {
      "text/html": [
       " View run at <a href='https://wandb.ai/koval_alvi/simple_mae/runs/67edkjzm' target=\"_blank\">https://wandb.ai/koval_alvi/simple_mae/runs/67edkjzm</a>"
      ],
      "text/plain": [
       "<IPython.core.display.HTML object>"
      ]
     },
     "metadata": {},
     "output_type": "display_data"
    },
    {
     "name": "stdout",
     "output_type": "stream",
     "text": [
      "Device for training:  cuda\n",
      "Num devices:  1\n",
      "Completed initialization of scheduler\n"
     ]
    },
    {
     "name": "stderr",
     "output_type": "stream",
     "text": [
      "/opt/conda/envs/pytorch/lib/python3.10/site-packages/torch/_inductor/compile_fx.py:140: UserWarning: TensorFloat32 tensor cores for float32 matrix multiplication available but not enabled. Consider setting `torch.set_float32_matmul_precision('high')` for better performance.\n",
      "  warnings.warn(\n"
     ]
    },
    {
     "name": "stdout",
     "output_type": "stream",
     "text": [
      "***************************************************************************************************************************************************************************************************************************************************************************************************************************************************************************************************************************************************************************************************************************************************************************************************************************************************************************************************************************************************************************************************************************************************************************************************************************************************************************************************************************************\n",
      "overall_steps 1000: 0.015391571447253227\n",
      "val loss: 0.014821063727140427\n",
      "saved model:  step_1000_loss_0.0148.safetensors\n",
      "****************************************************************************************************************************************************************************************************************************************************************************************************************************************************************************************************************************************************************************************************************************************************************************************************************************************************************************************************************************************************************************************************************************************************************************************************************************************************************************************************************************************\n",
      "overall_steps 2000: 0.014875926077365875\n",
      "val loss: 0.014356461353600025\n",
      "saved model:  step_2000_loss_0.0144.safetensors\n",
      "****************************************************************************************************************************************************************************************************************************************************************************************************************************************************************************************************************************************************************************************************************************************************************************************************************************************************************************************************************************************************************************************************************************************************************************************************************************************************************************************************************************************\n",
      "overall_steps 3000: 0.014052453450858593\n",
      "val loss: 0.01383752841502428\n",
      "saved model:  step_3000_loss_0.0138.safetensors\n",
      "****************************************************************************************************************************************************************************************************************************************************************************************************************************************************************************************************************************************************************************************************************************************************************************************************************************************************************************************************************************************************************************************************************************************************************************************************************************************************************************************************************************************\n",
      "overall_steps 4000: 0.014203745871782303\n",
      "val loss: 0.013484533876180649\n",
      "saved model:  step_4000_loss_0.0135.safetensors\n",
      "****************************************************************************************************************************************************************************************************************************************************************************************************************************************************************************************************************************************************************************************************************************************************************"
     ]
    }
   ],
   "source": [
    "project_name = 'simple_mae'\n",
    "save_folder = Path(\"/drive/logs/kovalev\")\n",
    "\n",
    "train_config = TrainConfig(exp_name='brain-mae-full-datasets-train',\n",
    "                           mixed_precision=False,\n",
    "                           batch_size=128, \n",
    "                           grad_accum=8,\n",
    "                           num_workers=4,\n",
    "                           pin_memory=True, \n",
    "                           eval_interval=1000, \n",
    "                           learning_rate=1e-4,\n",
    "                           weight_decay=0.001, \n",
    "                           grad_clip=10,\n",
    "                           lr_decay_iters=40_000, \n",
    "                           warmup_iters=500, \n",
    "                           project_name=project_name, \n",
    "                           save_folder=save_folder\n",
    "                          )\n",
    "\n",
    "# model = torch.compile(model)\n",
    "\n",
    "# train_dataset = torch.utils.data.Subset(train_dataset, torch.arange(1).repeat(128))\n",
    "# val_dataset = train_dataset\n",
    "model = torch.compile(model)\n",
    "args = (model, (train_dataset, test_dataset), train_config, encoder_config)\n",
    "notebook_launcher(run_train_model, args, num_processes=1)"
   ]
  },
  {
   "cell_type": "code",
   "execution_count": null,
   "metadata": {},
   "outputs": [],
   "source": []
  },
  {
   "cell_type": "code",
   "execution_count": null,
   "metadata": {},
   "outputs": [],
   "source": []
  },
  {
   "cell_type": "code",
   "execution_count": null,
   "metadata": {},
   "outputs": [],
   "source": [
    "def visualize_data(x, recon, binary_mask):\n",
    "    x_masked_input = binary_mask * x\n",
    "    x_unmasked_input = ~binary_mask * x\n",
    "\n",
    "    recon_masked = binary_mask * recon\n",
    "    recon_unmasked = ~binary_mask * recon\n",
    "\n",
    "    t_st, t_end = 0, 32 \n",
    "    c_st, c_end = 256, 280\n",
    "\n",
    "    fig, ax = plt.subplots(3,2, figsize = (16, 20))\n",
    "    ax[0, 0].imshow(x[t_st:t_end, c_st:c_end].T, vmax=1, aspect='auto')\n",
    "    ax[1, 0].imshow(x_unmasked_input[t_st:t_end, c_st:c_end].T, vmax=1, aspect='auto')\n",
    "    ax[2, 0].imshow(x_masked_input[t_st:t_end, c_st:c_end].T, vmax=1, aspect='auto')\n",
    "\n",
    "    ax[0, 1].imshow(recon[t_st:t_end, c_st:c_end].T, vmax=1, aspect='auto')\n",
    "    ax[1, 1].imshow(recon_unmasked[t_st:t_end, c_st:c_end].T, vmax=1, aspect='auto')\n",
    "    ax[2, 1].imshow(recon_masked[t_st:t_end, c_st:c_end].T, vmax=1, aspect='auto')\n"
   ]
  },
  {
   "cell_type": "code",
   "execution_count": null,
   "metadata": {},
   "outputs": [],
   "source": [
    "model = model.float()"
   ]
  },
  {
   "cell_type": "code",
   "execution_count": null,
   "metadata": {},
   "outputs": [],
   "source": [
    "model.dtype"
   ]
  },
  {
   "cell_type": "code",
   "execution_count": null,
   "metadata": {},
   "outputs": [],
   "source": [
    "x, txt, date_info = train_dataset[0]\n",
    "# x = test_dataset.inputs[0]\n",
    "\n",
    "# window_size = 16 \n",
    "\n",
    "# n_samples = int(x.shape[0]//16)\n",
    "# x_gt = x[:int(n_samples*window_size)] \n",
    "\n",
    "n_samples=1\n",
    "recons = []\n",
    "binary_mask =[]\n",
    "for i in range(n_samples):\n",
    "    x_slice = x[i*window_size: i+1*window_size]\n",
    "    x_slice = torch.from_numpy(x_slice).to('cuda')[None, ...]\n",
    "    x_slice = x_slice.float()\n",
    "\n",
    "    date_info  = torch.from_numpy(date_info).to('cuda')[None, ...]\n",
    "    loss, recon, binary = model(x_slice, date_info=date_info , return_preds = True)\n",
    "\n",
    "    recon = recon[0].detach().cpu()\n",
    "    binary = binary[0].detach().cpu()\n",
    "\n",
    "    recons.append(recon)\n",
    "    binary_mask.append(binary)\n",
    "recons = torch.cat(recons, dim=1)\n",
    "binary_mask = torch.cat(binary_mask, dim=1).to(torch.bool)"
   ]
  },
  {
   "cell_type": "code",
   "execution_count": null,
   "metadata": {},
   "outputs": [],
   "source": [
    "binary_mask.shape, recons.shape, x.shape\n",
    "\n",
    "visualize_data(x, recons, binary_mask)"
   ]
  },
  {
   "cell_type": "code",
   "execution_count": null,
   "metadata": {},
   "outputs": [],
   "source": [
    "# x_gt = x_gt[None, ...]"
   ]
  },
  {
   "cell_type": "code",
   "execution_count": null,
   "metadata": {},
   "outputs": [],
   "source": []
  },
  {
   "cell_type": "code",
   "execution_count": null,
   "metadata": {},
   "outputs": [],
   "source": []
  },
  {
   "cell_type": "code",
   "execution_count": null,
   "metadata": {},
   "outputs": [],
   "source": []
  }
 ],
 "metadata": {
  "kernelspec": {
   "display_name": "Python [conda env:pytorch]",
   "language": "python",
   "name": "conda-env-pytorch-py"
  },
  "language_info": {
   "codemirror_mode": {
    "name": "ipython",
    "version": 3
   },
   "file_extension": ".py",
   "mimetype": "text/x-python",
   "name": "python",
   "nbconvert_exporter": "python",
   "pygments_lexer": "ipython3",
   "version": "3.10.14"
  }
 },
 "nbformat": 4,
 "nbformat_minor": 4
}
