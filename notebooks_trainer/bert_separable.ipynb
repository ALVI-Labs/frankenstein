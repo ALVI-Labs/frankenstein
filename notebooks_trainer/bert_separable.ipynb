{
 "cells": [
  {
   "cell_type": "code",
   "execution_count": 1,
   "metadata": {},
   "outputs": [],
   "source": [
    "import os\n",
    "import sys\n",
    "from pathlib import Path\n",
    "sys.path.insert(1, os.path.realpath(os.path.pardir))\n",
    "\n",
    "import torch\n",
    "import torch.nn.functional as F\n",
    "from torch import nn\n",
    "\n",
    "import safetensors\n",
    "from accelerate import notebook_launcher\n",
    "\n",
    "import einops\n",
    "\n",
    "from utils.data_utils import BrainDataset, get_tokenizer\n",
    "from utils.train_utils import TrainConfig, run_train_model, count_parameters, simple_train_model\n",
    "\n",
    "from transformers import GPT2Tokenizer\n",
    "\n",
    "from models.bert import BrainBert, BertConfig\n",
    "from models.vq_brain_per_channel import SoundStream\n",
    "\n",
    "from dataclasses import dataclass\n",
    "from simple_parsing.helpers import Serializable\n",
    "\n",
    "from safetensors.torch import load_model\n"
   ]
  },
  {
   "cell_type": "code",
   "execution_count": 2,
   "metadata": {},
   "outputs": [
    {
     "name": "stdout",
     "output_type": "stream",
     "text": [
      "self.codebook_size 1000\n"
     ]
    }
   ],
   "source": [
    "# device='cuda'\n",
    "vq_config = dict(C=128, n_electrodes=1, levels=[8, 5, 5, 5])\n",
    "\n",
    "vq_vae = SoundStream(**vq_config)\n",
    "vq_vae = torch.compile(vq_vae)\n",
    "vq_weights = \"/drive/logs/kovalev/vq_brain/per_spikes_minmax_fsq_22M_ws_256_l1/step_3000_loss_0.0147.safetensors\"\n",
    "load_model(vq_vae, vq_weights)\n",
    "vq_vae = vq_vae._orig_mod\n",
    "\n"
   ]
  },
  {
   "cell_type": "code",
   "execution_count": 3,
   "metadata": {},
   "outputs": [
    {
     "name": "stdout",
     "output_type": "stream",
     "text": [
      "BertConfig(window_size=192, n_electrodes=256, mask_ratio=0.75, tokenizer_downsample=4, n_layers=6, dim=128, hidden_dim=1024, head_dim=32, n_heads=16, n_kv_heads=16)\n",
      "Encoder: number of parameters: 13.90M\n",
      "Total: 13.90M, Trainable: 8.18M\n"
     ]
    },
    {
     "data": {
      "text/plain": [
       "(13901165, 8182120)"
      ]
     },
     "execution_count": 3,
     "metadata": {},
     "output_type": "execute_result"
    }
   ],
   "source": [
    "cfg = BertConfig(dim=128, window_size=768//4, n_electrodes=256, mask_ratio=0.75, n_layers=6)\n",
    "\n",
    "model = BrainBert(cfg, vq_vae)\n",
    "\n",
    "for param in model.tokenizer.parameters():\n",
    "    param.requires_grad = False \n",
    "\n",
    "count_parameters(model)"
   ]
  },
  {
   "cell_type": "markdown",
   "metadata": {},
   "source": [
    "### Run training pipeline"
   ]
  },
  {
   "cell_type": "code",
   "execution_count": null,
   "metadata": {},
   "outputs": [
    {
     "name": "stdout",
     "output_type": "stream",
     "text": [
      "Runed processing of the  /drive/data/competitionData/train\n"
     ]
    },
    {
     "name": "stderr",
     "output_type": "stream",
     "text": [
      "/opt/conda/envs/pytorch/lib/python3.10/site-packages/huggingface_hub/file_download.py:1132: FutureWarning: `resume_download` is deprecated and will be removed in version 1.0.0. Downloads always resume when possible. If you want to force a new download, use `force_download=True`.\n",
      "  warnings.warn(\n"
     ]
    },
    {
     "name": "stdout",
     "output_type": "stream",
     "text": [
      "len: 8800\n",
      "max input len 768\n",
      "Runed processing of the  /drive/data/competitionData/test\n",
      "len: 880\n",
      "max input len 768\n",
      "Launching training on one GPU.\n"
     ]
    },
    {
     "name": "stderr",
     "output_type": "stream",
     "text": [
      "/opt/conda/envs/pytorch/lib/python3.10/site-packages/accelerate/accelerator.py:446: FutureWarning: Passing the following arguments to `Accelerator` is deprecated and will be removed in version 1.0 of Accelerate: dict_keys(['split_batches']). Please pass an `accelerate.DataLoaderConfiguration` instead: \n",
      "dataloader_config = DataLoaderConfiguration(split_batches=True)\n",
      "  warnings.warn(\n",
      "\u001b[34m\u001b[1mwandb\u001b[0m: Currently logged in as: \u001b[33mkoval_alvi\u001b[0m. Use \u001b[1m`wandb login --relogin`\u001b[0m to force relogin\n"
     ]
    },
    {
     "data": {
      "text/html": [
       "wandb version 0.17.0 is available!  To upgrade, please run:\n",
       " $ pip install wandb --upgrade"
      ],
      "text/plain": [
       "<IPython.core.display.HTML object>"
      ]
     },
     "metadata": {},
     "output_type": "display_data"
    },
    {
     "data": {
      "text/html": [
       "Tracking run with wandb version 0.16.6"
      ],
      "text/plain": [
       "<IPython.core.display.HTML object>"
      ]
     },
     "metadata": {},
     "output_type": "display_data"
    },
    {
     "data": {
      "text/html": [
       "Run data is saved locally in <code>/home/kovalev/frankenstein/notebooks_trainer/wandb/run-20240516_154716-hrnpxyy3</code>"
      ],
      "text/plain": [
       "<IPython.core.display.HTML object>"
      ]
     },
     "metadata": {},
     "output_type": "display_data"
    },
    {
     "data": {
      "text/html": [
       "Syncing run <strong><a href='https://wandb.ai/koval_alvi/bert/runs/hrnpxyy3' target=\"_blank\">all_unpadded_loss_sep_vq_minmax_spikes</a></strong> to <a href='https://wandb.ai/koval_alvi/bert' target=\"_blank\">Weights & Biases</a> (<a href='https://wandb.me/run' target=\"_blank\">docs</a>)<br/>"
      ],
      "text/plain": [
       "<IPython.core.display.HTML object>"
      ]
     },
     "metadata": {},
     "output_type": "display_data"
    },
    {
     "data": {
      "text/html": [
       " View project at <a href='https://wandb.ai/koval_alvi/bert' target=\"_blank\">https://wandb.ai/koval_alvi/bert</a>"
      ],
      "text/plain": [
       "<IPython.core.display.HTML object>"
      ]
     },
     "metadata": {},
     "output_type": "display_data"
    },
    {
     "data": {
      "text/html": [
       " View run at <a href='https://wandb.ai/koval_alvi/bert/runs/hrnpxyy3' target=\"_blank\">https://wandb.ai/koval_alvi/bert/runs/hrnpxyy3</a>"
      ],
      "text/plain": [
       "<IPython.core.display.HTML object>"
      ]
     },
     "metadata": {},
     "output_type": "display_data"
    },
    {
     "name": "stdout",
     "output_type": "stream",
     "text": [
      "Device for training:  cuda\n",
      "Num devices:  1\n",
      "Completed initialization of scheduler\n",
      "********************************************************************************************************************************************************************************************************************************************************************************************************************************************************************************************************************************************************************************************************************\n",
      "overall_steps 500: 3.6049320697784424\n",
      "val loss: 3.619947671890259\n",
      "saved model:  step_500_loss_3.6199.safetensors\n",
      "**********************"
     ]
    }
   ],
   "source": [
    "project_name = 'bert'\n",
    "\n",
    "train_config = TrainConfig(exp_name='all_unpadded_loss_sep_vq_minmax_spikes',\n",
    "                           mixed_precision=True,\n",
    "                           batch_size=2, \n",
    "                           num_workers=3,\n",
    "                           pin_memory=True, \n",
    "                           eval_interval=500, \n",
    "                           learning_rate=3e-4,\n",
    "                           weight_decay=0, \n",
    "                           grad_clip=5,\n",
    "                           lr_decay_iters=30_000, \n",
    "                           warmup_iters=1000\n",
    "                          )\n",
    "# peter path\n",
    "# data_path = Path(r'C:\\Users\\peter\\alvi\\brain2text\\competitionData')\n",
    "\n",
    "# data_path = Path(r'D:\\Work\\brain-to-text-competition\\data\\competitionData')\n",
    "\n",
    "data_path = Path(\"/drive/data/competitionData\")\n",
    "save_folder = Path(\"/drive/logs/kovalev\")\n",
    "\n",
    "tokenizer = GPT2Tokenizer.from_pretrained('gpt2')\n",
    "\n",
    "train_dataset = BrainDataset(data_path / 'train', tokenize_function=get_tokenizer(tokenizer), max_input_len=768)\n",
    "test_dataset = BrainDataset(data_path / 'test', tokenize_function=get_tokenizer(tokenizer), max_input_len=768)\n",
    "\n",
    "# indices = torch.arange(1).repeat(64)\n",
    "# train_dataset = torch.utils.data.Subset(test_dataset, indices)\n",
    "# test_dataset = torch.utils.data.Subset(test_dataset, indices)\n",
    "\n",
    "model = torch.compile(model)\n",
    "args = (model, (train_dataset, test_dataset), train_config, project_name, save_folder)\n",
    "notebook_launcher(run_train_model, args, num_processes=1)"
   ]
  },
  {
   "cell_type": "code",
   "execution_count": null,
   "metadata": {},
   "outputs": [],
   "source": [
    "save_folder = Path(\"/drive/logs/kovalev\")\n",
    "\n",
    "safetensors.torch.save_model(model, save_folder / 'model_mae_long_train.safetensors')"
   ]
  },
  {
   "cell_type": "code",
   "execution_count": null,
   "metadata": {},
   "outputs": [],
   "source": [
    "model"
   ]
  },
  {
   "cell_type": "code",
   "execution_count": null,
   "metadata": {},
   "outputs": [],
   "source": [
    "import torch._dynamo\n",
    "torch._dynamo.config.suppress_errors = True"
   ]
  },
  {
   "cell_type": "code",
   "execution_count": null,
   "metadata": {},
   "outputs": [],
   "source": [
    "model = model._orig_mod"
   ]
  },
  {
   "cell_type": "code",
   "execution_count": null,
   "metadata": {},
   "outputs": [],
   "source": [
    "mae_weights = \"/drive/logs/kovalev/fixed_abs_mae_11M_5M_spikes/step_34000_loss_0.0166.safetensors\"\n",
    "\n",
    "mae_model = SimpleMAE( SimpleEncoderConfig(), SimpleMAEConfig())\n",
    "mae_model = torch.compile(mae_model)\n",
    "safetensors.torch.load_model(mae_model, mae_weights)\n",
    "mae_model = mae_model._orig_mod\n",
    "\n",
    "brain_model = mae_model.encoder"
   ]
  },
  {
   "cell_type": "code",
   "execution_count": null,
   "metadata": {},
   "outputs": [],
   "source": [
    "x = test_dataset[0][0]\n",
    "device = 'cpu'\n",
    "x = torch.from_numpy(x[None, :]).to(device)\n",
    "print(x.shape)\n",
    "loss, y, binary = model(x, masking_ratio=0.75,  return_preds=True)\n",
    "\n",
    "x = x.detach().cpu()[0]\n",
    "y = y.detach().cpu()[0]\n",
    "binary = binary.detach().cpu()[0]\n",
    "\n",
    "import matplotlib.pyplot as plt \n",
    "\n",
    "# plt.plot(y[1, :])\n",
    "# plt.show()\n",
    "# plt.plot(x[1, :])\n",
    "# plt.show()\n",
    "loss = F.l1_loss(y, x, reduction='none')\n",
    "print(torch.mean(loss[loss>0]))\n",
    "\n",
    "plt.show()\n",
    "plt.imshow(binary[:64].T, aspect='auto')\n",
    "# plt.colorbar()\n",
    "plt.show()\n",
    "plt.imshow(torch.clip(y[:64].T, 0, 1), aspect='auto')\n",
    "plt.colorbar()\n",
    "plt.show()\n",
    "plt.imshow(x[:64].T, aspect='auto' )\n",
    "plt.colorbar()\n"
   ]
  },
  {
   "cell_type": "code",
   "execution_count": null,
   "metadata": {},
   "outputs": [],
   "source": [
    "plt.show()\n",
    "plt.plot(binary[:32, 10])\n",
    "plt.show()\n",
    "plt.plot(y[:32, 10])\n",
    "# plt.show()\n",
    "plt.plot(x[:32, 10])"
   ]
  },
  {
   "cell_type": "markdown",
   "metadata": {},
   "source": []
  },
  {
   "cell_type": "code",
   "execution_count": null,
   "metadata": {},
   "outputs": [],
   "source": []
  }
 ],
 "metadata": {
  "kernelspec": {
   "display_name": "Python [conda env:pytorch]",
   "language": "python",
   "name": "conda-env-pytorch-py"
  },
  "language_info": {
   "codemirror_mode": {
    "name": "ipython",
    "version": 3
   },
   "file_extension": ".py",
   "mimetype": "text/x-python",
   "name": "python",
   "nbconvert_exporter": "python",
   "pygments_lexer": "ipython3",
   "version": "3.10.14"
  }
 },
 "nbformat": 4,
 "nbformat_minor": 4
}
