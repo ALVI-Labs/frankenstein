{
 "cells": [
  {
   "cell_type": "code",
   "execution_count": 1,
   "metadata": {},
   "outputs": [],
   "source": [
    "import os\n",
    "import sys\n",
    "from pathlib import Path\n",
    "sys.path.insert(1, os.path.realpath(os.path.pardir))\n",
    "\n",
    "import torch\n",
    "import torch.nn.functional as F\n",
    "from torch import nn\n",
    "\n",
    "import safetensors\n",
    "from accelerate import notebook_launcher\n",
    "from dataclasses import dataclass\n",
    "from simple_parsing.helpers import Serializable\n",
    "\n",
    "import gc\n",
    "import albumentations as A\n",
    "import matplotlib.pyplot as plt\n",
    "from transformers import WhisperProcessor, WhisperForConditionalGeneration, WhisperTokenizer\n",
    "\n",
    "from utils.data_utils import BrainDataset, get_tokenizer, process_file_v2\n",
    "from utils.train_utils import TrainConfig, run_train_model, count_parameters, load_model_weights, freeze_module"
   ]
  },
  {
   "cell_type": "code",
   "execution_count": 2,
   "metadata": {},
   "outputs": [],
   "source": [
    "from models.mirasol import Mirasol, MirasolConfig, Franky\n",
    "from models.vq_brain_per_channel import SoundStream, VAEConfig\n"
   ]
  },
  {
   "cell_type": "code",
   "execution_count": 3,
   "metadata": {},
   "outputs": [],
   "source": [
    "IS_AWS_SERVER = True\n",
    "\n",
    "if IS_AWS_SERVER:\n",
    "    whisper_model_name = \"openai/whisper-small.en\"\n",
    "    vq_weights = Path('/drive/logs/kovalev/vq_brain/4_features_35M_4x_4000_256_ws-new/step_12000_loss_0.0102.safetensors')\n",
    "    data_path = Path(\"/drive/data/competitionData\")\n",
    "    save_folder = Path(\"/drive/logs/kovalev\")\n",
    "else: \n",
    "    whisper_model_name = \"openai/whisper-large-v3\"\n",
    "    vq_weights = Path('../4_features_35M_4x_4000_256_ws-new.safetensors')\n",
    "    data_path = Path(\"/drive/data/competitionData\")\n",
    "    save_folder = Path(\"/drive/logs/kovalev\")"
   ]
  },
  {
   "cell_type": "markdown",
   "metadata": {},
   "source": [
    "### Init Franky"
   ]
  },
  {
   "cell_type": "code",
   "execution_count": 4,
   "metadata": {},
   "outputs": [
    {
     "name": "stdout",
     "output_type": "stream",
     "text": [
      "self.codebook_size 4375\n",
      "self.downsample 4\n",
      "Shape of the rope cache:  torch.Size([512, 16])\n",
      "Shape of the causal model:  torch.Size([512, 512])\n",
      "Full Mirasol model: number of parameters: 114.13M\n"
     ]
    }
   ],
   "source": [
    "vae_config = VAEConfig(C=512, \n",
    "                       levels=(7, 5, 5, 5, 5), \n",
    "                       n_features=4, \n",
    "                       stride_list = (2, 2))\n",
    "vq_vae = SoundStream(**vae_config.to_dict())\n",
    "\n",
    "model_config = MirasolConfig(window_size=512,\n",
    "                             n_layers=6,\n",
    "                             mask_ratio=0.1, \n",
    "                             n_registers=4)\n",
    "brain_model = Mirasol(model_config, vq_vae)"
   ]
  },
  {
   "cell_type": "code",
   "execution_count": 5,
   "metadata": {},
   "outputs": [
    {
     "name": "stderr",
     "output_type": "stream",
     "text": [
      "/opt/conda/envs/pytorch/lib/python3.10/site-packages/huggingface_hub/file_download.py:1132: FutureWarning: `resume_download` is deprecated and will be removed in version 1.0.0. Downloads always resume when possible. If you want to force a new download, use `force_download=True`.\n",
      "  warnings.warn(\n"
     ]
    }
   ],
   "source": [
    "# load model and processor\n",
    "tokenizer = WhisperTokenizer.from_pretrained(whisper_model_name, task=\"transcribe\")\n",
    "model = WhisperForConditionalGeneration.from_pretrained(whisper_model_name, \n",
    "                                                        # apply_spec_augment=0.1,\n",
    "                                                        decoder_layerdrop=0.1, \n",
    "                                                        # encoder_layerdrop=0.1, \n",
    "                                                        dropout=0.1,\n",
    "                                                        activation_dropout=0.1)\n",
    "model.config.forced_decoder_ids = None\n",
    "\n",
    "whisper = {'decoder': model.model.decoder, \n",
    "           'proj_out': model.proj_out, \n",
    "           'tokenizer': tokenizer}"
   ]
  },
  {
   "cell_type": "code",
   "execution_count": 6,
   "metadata": {
    "scrolled": true
   },
   "outputs": [
    {
     "name": "stdout",
     "output_type": "stream",
     "text": [
      "Full Franky: number of parameters: 269.70M\n",
      "load compiled weights\n",
      "Total: 269.70M, Trainable: 233.64M\n"
     ]
    },
    {
     "data": {
      "text/plain": [
       "(269695264, 233644311)"
      ]
     },
     "execution_count": 6,
     "metadata": {},
     "output_type": "execute_result"
    }
   ],
   "source": [
    "model = Franky(brain_model=brain_model, llm_model=whisper, add_temporal_embeddings=True) \n",
    "model.train()\n",
    "\n",
    "load_model_weights(model.brain_model.vq_model, vq_weights)\n",
    "freeze_module(model.brain_model.vq_model)\n",
    "model.brain_model.vq_model.eval()\n",
    "# # decoder\n",
    "# freeze_module(model.llm_decoder.embed_tokens)\n",
    "freeze_module(model.llm_decoder.embed_positions)\n",
    "# freeze_module(model.proj_out)\n",
    "\n",
    "count_parameters(model)"
   ]
  },
  {
   "cell_type": "markdown",
   "metadata": {},
   "source": [
    "### Load Datasets"
   ]
  },
  {
   "cell_type": "code",
   "execution_count": 7,
   "metadata": {},
   "outputs": [
    {
     "name": "stdout",
     "output_type": "stream",
     "text": [
      "Runed processing of the  /drive/data/competitionData/train\n"
     ]
    },
    {
     "name": "stderr",
     "output_type": "stream",
     "text": [
      "Processing files: 100%|██████████| 24/24 [01:21<00:00,  3.39s/file]\n"
     ]
    },
    {
     "name": "stdout",
     "output_type": "stream",
     "text": [
      "len of the dataset: 8800\n",
      "max signal size: 906 | max tokens size: 23\n",
      "median signal size: 297.0 | median tokens size: 11.0\n",
      "Runed processing of the  /drive/data/competitionData/test\n"
     ]
    },
    {
     "name": "stderr",
     "output_type": "stream",
     "text": [
      "Processing files: 100%|██████████| 24/24 [00:07<00:00,  3.17file/s]\n"
     ]
    },
    {
     "name": "stdout",
     "output_type": "stream",
     "text": [
      "len of the dataset: 880\n",
      "max signal size: 919 | max tokens size: 21\n",
      "median signal size: 283.5 | median tokens size: 10.0\n"
     ]
    },
    {
     "data": {
      "text/plain": [
       "0"
      ]
     },
     "execution_count": 7,
     "metadata": {},
     "output_type": "execute_result"
    }
   ],
   "source": [
    "window_size = model_config.window_size\n",
    "n_electrodes = 256 * 4\n",
    "max_tokens = 25\n",
    "\n",
    "train_transform = A.Compose([\n",
    "    A.CoarseDropout(fill_value=0, p=0.1),\n",
    "    # A.MultiplicativeNoise(multiplier=(0.9, 1.1), p=0.5),\n",
    "    A.GaussNoise(var_limit=0.005, mean=0, p=0.5),\n",
    "    A.PadIfNeeded(min_height=window_size, min_width=n_electrodes, position='top_left', \n",
    "                  border_mode=0, value=0, always_apply=True),\n",
    "    # A.RandomCrop(height=window_size, width=n_electrodes, always_apply=True),\n",
    "    A.Crop(x_min=0, x_max=n_electrodes, y_min=0, y_max=window_size, always_apply=True),\n",
    "\n",
    "])\n",
    "\n",
    "test_transform = A.Compose([\n",
    "    A.PadIfNeeded(min_height=window_size, min_width=n_electrodes, position='top_left', \n",
    "                  border_mode=0, value=0, always_apply=True),\n",
    "    A.Crop(x_min=0, x_max=n_electrodes, y_min=0, y_max=window_size, always_apply=True)\n",
    "])\n",
    "\n",
    "\n",
    "tokenize_function =  lambda text: tokenizer(text)['input_ids']\n",
    "process_file_function = process_file_v2\n",
    "\n",
    "train_dataset = BrainDataset(data_path / 'train', \n",
    "                             process_file_function=process_file_function, \n",
    "                             tokenize_function=tokenize_function, \n",
    "                             transform=train_transform, \n",
    "                             max_tokens=max_tokens)\n",
    "\n",
    "gc.collect()\n",
    "test_dataset = BrainDataset(data_path / 'test', \n",
    "                            process_file_function=process_file_function, \n",
    "                            tokenize_function=tokenize_function, \n",
    "                            transform=test_transform, \n",
    "                            max_tokens=max_tokens)\n",
    "\n",
    "gc.collect()"
   ]
  },
  {
   "cell_type": "code",
   "execution_count": 8,
   "metadata": {},
   "outputs": [],
   "source": [
    "# # test_dataloader = torch.utils.data.DataLoader(test_dataset, batch_size=1, shuffle=False)\n",
    "# train_dataloader = torch.utils.data.DataLoader(test_dataset, batch_size=1, shuffle=False)\n",
    "\n",
    "# x, y, date = next(iter(train_dataloader))\n",
    "# print(x.shape, y.shape, date.shape)\n",
    "# print('input text', y)\n",
    "\n",
    "# loss, logits = model(x, y, date)"
   ]
  },
  {
   "cell_type": "markdown",
   "metadata": {},
   "source": [
    "# Work with data"
   ]
  },
  {
   "cell_type": "code",
   "execution_count": null,
   "metadata": {},
   "outputs": [
    {
     "name": "stdout",
     "output_type": "stream",
     "text": [
      "Launching training on one GPU.\n"
     ]
    },
    {
     "name": "stderr",
     "output_type": "stream",
     "text": [
      "/opt/conda/envs/pytorch/lib/python3.10/site-packages/accelerate/accelerator.py:446: FutureWarning: Passing the following arguments to `Accelerator` is deprecated and will be removed in version 1.0 of Accelerate: dict_keys(['split_batches']). Please pass an `accelerate.DataLoaderConfiguration` instead: \n",
      "dataloader_config = DataLoaderConfiguration(split_batches=True)\n",
      "  warnings.warn(\n",
      "\u001b[34m\u001b[1mwandb\u001b[0m: Currently logged in as: \u001b[33mkoval_alvi\u001b[0m. Use \u001b[1m`wandb login --relogin`\u001b[0m to force relogin\n"
     ]
    },
    {
     "data": {
      "text/html": [
       "wandb version 0.17.0 is available!  To upgrade, please run:\n",
       " $ pip install wandb --upgrade"
      ],
      "text/plain": [
       "<IPython.core.display.HTML object>"
      ]
     },
     "metadata": {},
     "output_type": "display_data"
    },
    {
     "data": {
      "text/html": [
       "Tracking run with wandb version 0.16.6"
      ],
      "text/plain": [
       "<IPython.core.display.HTML object>"
      ]
     },
     "metadata": {},
     "output_type": "display_data"
    },
    {
     "data": {
      "text/html": [
       "Run data is saved locally in <code>/home/kovalev/frankenstein/notebooks_trainer/wandb/run-20240528_110959-nx5nofx6</code>"
      ],
      "text/plain": [
       "<IPython.core.display.HTML object>"
      ]
     },
     "metadata": {},
     "output_type": "display_data"
    },
    {
     "data": {
      "text/html": [
       "Syncing run <strong><a href='https://wandb.ai/koval_alvi/franky/runs/nx5nofx6' target=\"_blank\">fixed-mirasol</a></strong> to <a href='https://wandb.ai/koval_alvi/franky' target=\"_blank\">Weights & Biases</a> (<a href='https://wandb.me/run' target=\"_blank\">docs</a>)<br/>"
      ],
      "text/plain": [
       "<IPython.core.display.HTML object>"
      ]
     },
     "metadata": {},
     "output_type": "display_data"
    },
    {
     "data": {
      "text/html": [
       " View project at <a href='https://wandb.ai/koval_alvi/franky' target=\"_blank\">https://wandb.ai/koval_alvi/franky</a>"
      ],
      "text/plain": [
       "<IPython.core.display.HTML object>"
      ]
     },
     "metadata": {},
     "output_type": "display_data"
    },
    {
     "data": {
      "text/html": [
       " View run at <a href='https://wandb.ai/koval_alvi/franky/runs/nx5nofx6' target=\"_blank\">https://wandb.ai/koval_alvi/franky/runs/nx5nofx6</a>"
      ],
      "text/plain": [
       "<IPython.core.display.HTML object>"
      ]
     },
     "metadata": {},
     "output_type": "display_data"
    },
    {
     "name": "stdout",
     "output_type": "stream",
     "text": [
      "Device for training:  cuda\n",
      "Num devices:  1\n",
      "Completed initialization of scheduler\n",
      "*************************************************************************************************************************************************************************************************************************************************************************************************************************************************************************************************************************************************************************************************************************************************************************************************************************************************************************************************"
     ]
    }
   ],
   "source": [
    "project_name = 'franky'\n",
    "\n",
    "train_config = TrainConfig(exp_name='fixed-mirasol',\n",
    "                           mixed_precision=True,\n",
    "                           batch_size=2, \n",
    "                           grad_accum=2,\n",
    "                           num_workers=3,\n",
    "                           pin_memory=True, \n",
    "                           eval_interval=1000, \n",
    "                           learning_rate=1e-4,\n",
    "                           weight_decay=0.001, \n",
    "                           grad_clip=1,\n",
    "                           lr_decay_iters=20_000, \n",
    "                           warmup_iters=1000, \n",
    "                           project_name=project_name, \n",
    "                           save_folder=save_folder\n",
    "                          )\n",
    "\n",
    "args = (model, (train_dataset, test_dataset), train_config, model_config)\n",
    "notebook_launcher(run_train_model, args, num_processes=1)"
   ]
  },
  {
   "cell_type": "code",
   "execution_count": null,
   "metadata": {},
   "outputs": [],
   "source": []
  }
 ],
 "metadata": {
  "kernelspec": {
   "display_name": "Python [conda env:pytorch]",
   "language": "python",
   "name": "conda-env-pytorch-py"
  },
  "language_info": {
   "codemirror_mode": {
    "name": "ipython",
    "version": 3
   },
   "file_extension": ".py",
   "mimetype": "text/x-python",
   "name": "python",
   "nbconvert_exporter": "python",
   "pygments_lexer": "ipython3",
   "version": "3.10.14"
  }
 },
 "nbformat": 4,
 "nbformat_minor": 4
}
