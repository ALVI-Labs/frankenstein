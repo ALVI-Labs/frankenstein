{
 "cells": [
  {
   "cell_type": "code",
   "execution_count": 1,
   "metadata": {},
   "outputs": [],
   "source": [
    "import os\n",
    "import sys\n",
    "from pathlib import Path\n",
    "sys.path.insert(1, os.path.realpath(os.path.pardir))\n",
    "\n",
    "import torch\n",
    "import torch.nn.functional as F\n",
    "from torch import nn\n",
    "\n",
    "import safetensors\n",
    "from accelerate import notebook_launcher\n",
    "\n",
    "from utils.data_utils import BrainDataset, get_tokenizer\n",
    "from utils.train_utils import TrainConfig, run_train_model, count_parameters, load_model_weights, freeze_module\n",
    "\n",
    "from dataclasses import dataclass\n",
    "from simple_parsing.helpers import Serializable\n",
    "\n",
    "from safetensors.torch import load_model\n",
    "import albumentations as A\n",
    "\n",
    "import matplotlib.pyplot as plt"
   ]
  },
  {
   "cell_type": "code",
   "execution_count": 2,
   "metadata": {},
   "outputs": [],
   "source": [
    "from models.mirasol import Mirasol, MirasolConfig, Franky\n",
    "from models.vq_brain_per_channel import SoundStream, VAEConfig\n"
   ]
  },
  {
   "cell_type": "markdown",
   "metadata": {},
   "source": [
    "## Init brain module"
   ]
  },
  {
   "cell_type": "code",
   "execution_count": 3,
   "metadata": {},
   "outputs": [
    {
     "name": "stdout",
     "output_type": "stream",
     "text": [
      "self.codebook_size 1920\n",
      "self.downsample 8\n",
      "Shape of the rope cache:  torch.Size([256, 16])\n",
      "Shape of the causal model:  torch.Size([256, 256])\n",
      "Full Mirasol model: number of parameters: 116.45M\n"
     ]
    }
   ],
   "source": [
    "vae_config = VAEConfig(C=256, levels=(8, 8, 6, 5))\n",
    "vq_vae = SoundStream(**vae_config.to_dict())\n",
    "\n",
    "model_config = MirasolConfig(window_size=512, w_latent_loss=1, w_recon_loss=0.1)\n",
    "brain_model = Mirasol(model_config, vq_vae)\n"
   ]
  },
  {
   "cell_type": "markdown",
   "metadata": {},
   "source": [
    "## Init language model"
   ]
  },
  {
   "cell_type": "code",
   "execution_count": 4,
   "metadata": {},
   "outputs": [
    {
     "name": "stderr",
     "output_type": "stream",
     "text": [
      "/opt/conda/envs/pytorch/lib/python3.10/site-packages/huggingface_hub/file_download.py:1132: FutureWarning: `resume_download` is deprecated and will be removed in version 1.0.0. Downloads always resume when possible. If you want to force a new download, use `force_download=True`.\n",
      "  warnings.warn(\n"
     ]
    }
   ],
   "source": [
    "from transformers import WhisperProcessor, WhisperForConditionalGeneration\n",
    "\n",
    "# load model and processor\n",
    "processor = WhisperProcessor.from_pretrained(\"openai/whisper-medium.en\")\n",
    "model = WhisperForConditionalGeneration.from_pretrained(\"openai/whisper-medium.en\")\n",
    "model.config.forced_decoder_ids = None\n",
    "\n",
    "\n",
    "tokenizer = processor.tokenizer\n",
    "whisper = {'decoder': model.model.decoder, \n",
    "           'proj_out': model.proj_out, \n",
    "           'tokenizer': tokenizer}"
   ]
  },
  {
   "cell_type": "code",
   "execution_count": 5,
   "metadata": {},
   "outputs": [],
   "source": [
    "import matplotlib.pyplot as plt"
   ]
  },
  {
   "cell_type": "code",
   "execution_count": 6,
   "metadata": {},
   "outputs": [],
   "source": [
    "from einops import rearrange \n",
    "import torch \n",
    "x = torch.zeros(2, 128, 4, 64)\n",
    "\n",
    "# x[0, :] = torch.arange(128).unsqueeze(-1)\n",
    "x[0, 0, 0, :] = 100\n",
    "x[0, 0, 1, :] = 101\n",
    "\n",
    "x[0, 1, 0, :] = 200\n",
    "x[0, 1, 1, :] = 201\n",
    "\n",
    "x[1] += 3000\n",
    "\n",
    "# x[1, 0, 0] = 1000\n",
    "# x[1, 0, 1] = 1010\n",
    "\n",
    "\n",
    "# print(x)\n",
    "\n",
    "x_bt = rearrange(x, 'b t r d -> (b t) r d')\n",
    "x_r = rearrange(x_bt, '(b t) r d -> b (t r) d', b=2)"
   ]
  },
  {
   "cell_type": "code",
   "execution_count": null,
   "metadata": {},
   "outputs": [],
   "source": []
  },
  {
   "cell_type": "code",
   "execution_count": 7,
   "metadata": {},
   "outputs": [
    {
     "name": "stdout",
     "output_type": "stream",
     "text": [
      "tensor([100., 200.,   0.,   0.,   0.,   0.,   0.,   0.,   0.,   0.,   0.,   0.,\n",
      "          0.,   0.,   0.,   0.,   0.,   0.,   0.,   0.,   0.,   0.,   0.,   0.,\n",
      "          0.,   0.,   0.,   0.,   0.,   0.,   0.,   0.,   0.,   0.,   0.,   0.,\n",
      "          0.,   0.,   0.,   0.,   0.,   0.,   0.,   0.,   0.,   0.,   0.,   0.,\n",
      "          0.,   0.,   0.,   0.,   0.,   0.,   0.,   0.,   0.,   0.,   0.,   0.,\n",
      "          0.,   0.,   0.,   0.,   0.,   0.,   0.,   0.,   0.,   0.,   0.,   0.,\n",
      "          0.,   0.,   0.,   0.,   0.,   0.,   0.,   0.,   0.,   0.,   0.,   0.,\n",
      "          0.,   0.,   0.,   0.,   0.,   0.,   0.,   0.,   0.,   0.,   0.,   0.,\n",
      "          0.,   0.,   0.,   0.,   0.,   0.,   0.,   0.,   0.,   0.,   0.,   0.,\n",
      "          0.,   0.,   0.,   0.,   0.,   0.,   0.,   0.,   0.,   0.,   0.,   0.,\n",
      "          0.,   0.,   0.,   0.,   0.,   0.,   0.,   0.])\n"
     ]
    }
   ],
   "source": [
    "print(x[0, :, 0, 0])"
   ]
  },
  {
   "cell_type": "code",
   "execution_count": 8,
   "metadata": {},
   "outputs": [
    {
     "name": "stdout",
     "output_type": "stream",
     "text": [
      "tensor([100., 200.,   0.,   0.,   0.,   0.,   0.,   0.,   0.,   0.,   0.,   0.,\n",
      "          0.,   0.,   0.,   0.,   0.,   0.,   0.,   0.,   0.,   0.,   0.,   0.,\n",
      "          0.,   0.,   0.,   0.,   0.,   0.,   0.,   0.,   0.,   0.,   0.,   0.,\n",
      "          0.,   0.,   0.,   0.,   0.,   0.,   0.,   0.,   0.,   0.,   0.,   0.,\n",
      "          0.,   0.,   0.,   0.,   0.,   0.,   0.,   0.,   0.,   0.,   0.,   0.,\n",
      "          0.,   0.,   0.,   0.,   0.,   0.,   0.,   0.,   0.,   0.,   0.,   0.,\n",
      "          0.,   0.,   0.,   0.,   0.,   0.,   0.,   0.,   0.,   0.,   0.,   0.,\n",
      "          0.,   0.,   0.,   0.,   0.,   0.,   0.,   0.,   0.,   0.,   0.,   0.,\n",
      "          0.,   0.,   0.,   0.,   0.,   0.,   0.,   0.,   0.,   0.,   0.,   0.,\n",
      "          0.,   0.,   0.,   0.,   0.,   0.,   0.,   0.,   0.,   0.,   0.,   0.,\n",
      "          0.,   0.,   0.,   0.,   0.,   0.,   0.,   0.])\n"
     ]
    }
   ],
   "source": [
    "print(x_r[0, ::4, 0])"
   ]
  },
  {
   "cell_type": "code",
   "execution_count": 9,
   "metadata": {},
   "outputs": [
    {
     "data": {
      "text/plain": [
       "<matplotlib.image.AxesImage at 0x7f53ad3fdab0>"
      ]
     },
     "execution_count": 9,
     "metadata": {},
     "output_type": "execute_result"
    },
    {
     "data": {
      "image/png": "[encoded data removed]",
      "text/plain": [
       "<Figure size 640x480 with 1 Axes>"
      ]
     },
     "metadata": {},
     "output_type": "display_data"
    }
   ],
   "source": [
    "plt.imshow(x[0, :2, :, 0].T, aspect='auto')"
   ]
  },
  {
   "cell_type": "code",
   "execution_count": 10,
   "metadata": {},
   "outputs": [
    {
     "data": {
      "text/plain": [
       "[<matplotlib.lines.Line2D at 0x7f53c7e04760>]"
      ]
     },
     "execution_count": 10,
     "metadata": {},
     "output_type": "execute_result"
    },
    {
     "data": {
      "image/png": "[encoded data removed]",
      "text/plain": [
       "<Figure size 640x480 with 1 Axes>"
      ]
     },
     "metadata": {},
     "output_type": "display_data"
    }
   ],
   "source": [
    "plt.plot(x_r[0, :4, 0])"
   ]
  },
  {
   "cell_type": "markdown",
   "metadata": {},
   "source": [
    "## Init Franky"
   ]
  },
  {
   "cell_type": "code",
   "execution_count": 11,
   "metadata": {},
   "outputs": [
    {
     "name": "stdout",
     "output_type": "stream",
     "text": [
      "Full Franky: number of parameters: 573.64M\n",
      "load compiled weights\n",
      "Total: 573.64M, Trainable: 506.67M\n"
     ]
    },
    {
     "data": {
      "text/plain": [
       "(573639557, 506674560)"
      ]
     },
     "execution_count": 11,
     "metadata": {},
     "output_type": "execute_result"
    }
   ],
   "source": [
    "model = Franky(brain_model=brain_model, llm_model=whisper) \n",
    "model.train()\n",
    "\n",
    "vq_weights = \"/drive/logs/kovalev/vq_brain/medium_14M_256ws_8x_2000/step_78000_loss_0.0275.safetensors\"\n",
    "load_model_weights(model.brain_model.vq_model, vq_weights)\n",
    "\n",
    "## let's freeeze \n",
    "# vqvae\n",
    "freeze_module(model.brain_model.vq_model)\n",
    "\n",
    "# # decoder\n",
    "freeze_module(model.llm_decoder.embed_tokens)\n",
    "freeze_module(model.llm_decoder.embed_positions)\n",
    "freeze_module(model.proj_out)\n",
    "\n",
    "count_parameters(model)"
   ]
  },
  {
   "cell_type": "code",
   "execution_count": 12,
   "metadata": {},
   "outputs": [
    {
     "name": "stdout",
     "output_type": "stream",
     "text": [
      "256\n",
      "torch.Size([256, 256])\n"
     ]
    },
    {
     "data": {
      "text/plain": [
       "<matplotlib.colorbar.Colorbar at 0x7f53adeea980>"
      ]
     },
     "execution_count": 12,
     "metadata": {},
     "output_type": "execute_result"
    },
    {
     "data": {
      "image/png": "[encoded data removed]",
      "text/plain": [
       "<Figure size 640x480 with 2 Axes>"
      ]
     },
     "metadata": {},
     "output_type": "display_data"
    }
   ],
   "source": [
    "attn_mask = model.brain_model.causal.attn_mask\n",
    "rope = model.brain_model.causal.rope_cache\n",
    "print(model.brain_model.block_size)\n",
    "print(attn_mask.shape)\n",
    "plt.imshow(attn_mask)\n",
    "plt.colorbar()"
   ]
  },
  {
   "cell_type": "code",
   "execution_count": 13,
   "metadata": {},
   "outputs": [
    {
     "data": {
      "text/plain": [
       "torch.Size([256, 16])"
      ]
     },
     "execution_count": 13,
     "metadata": {},
     "output_type": "execute_result"
    }
   ],
   "source": [
    "rope.shape"
   ]
  },
  {
   "cell_type": "code",
   "execution_count": 14,
   "metadata": {},
   "outputs": [
    {
     "name": "stderr",
     "output_type": "stream",
     "text": [
      "/opt/conda/envs/pytorch/lib/python3.10/site-packages/torch/_tensor.py:1064: ComplexWarning: Casting complex values to real discards the imaginary part\n",
      "  return self.numpy().astype(dtype, copy=False)\n"
     ]
    },
    {
     "data": {
      "text/plain": [
       "[<matplotlib.lines.Line2D at 0x7f53adfc3610>]"
      ]
     },
     "execution_count": 14,
     "metadata": {},
     "output_type": "execute_result"
    },
    {
     "data": {
      "image/png": "[encoded data removed]",
      "text/plain": [
       "<Figure size 640x480 with 1 Axes>"
      ]
     },
     "metadata": {},
     "output_type": "display_data"
    }
   ],
   "source": [
    "plt.plot(rope[:, 0])"
   ]
  },
  {
   "cell_type": "code",
   "execution_count": 15,
   "metadata": {},
   "outputs": [
    {
     "name": "stdout",
     "output_type": "stream",
     "text": [
      "Runed processing of the  /drive/data/competitionData/train\n",
      "len of the dataset: 8800\n",
      "max signal size: 906 | max tokens size: 25\n",
      "median signal size: 297.0 | median tokens size: 11.0\n",
      "Runed processing of the  /drive/data/competitionData/test\n",
      "len of the dataset: 880\n",
      "max signal size: 919 | max tokens size: 22\n",
      "median signal size: 283.5 | median tokens size: 10.0\n"
     ]
    }
   ],
   "source": [
    "window_size = model_config.window_size\n",
    "n_electrodes = 256\n",
    "max_tokens = 25\n",
    "\n",
    "train_transform = A.Compose([\n",
    "    \n",
    "    # A.CoarseDropout(fill_value=0, p=0.5),\n",
    "    # A.MultiplicativeNoise(multiplier=(0.9, 1.1), p=0.5),\n",
    "    # A.GaussNoise(var_limit=0.005, mean=0, p=0.5),\n",
    "\n",
    "    A.PadIfNeeded(min_height=window_size, min_width=n_electrodes, position='random', \n",
    "                  border_mode=0, value=0, always_apply=True),\n",
    "    # A.RandomCrop(height=window_size, width=n_electrodes, always_apply=True),\n",
    "    A.Crop(x_min=0, x_max=n_electrodes, y_min=0, y_max=window_size, always_apply=True),\n",
    "\n",
    "])\n",
    "\n",
    "test_transform = A.Compose([\n",
    "    A.PadIfNeeded(min_height=window_size, min_width=n_electrodes, position='top_left', \n",
    "                  border_mode=0, value=0, always_apply=True),\n",
    "    A.Crop(x_min=0, x_max=n_electrodes, y_min=0, y_max=window_size, always_apply=True)\n",
    "])\n",
    "\n",
    "\n",
    "data_path = Path(\"/drive/data/competitionData\")\n",
    "\n",
    "tokenize_function =  lambda text: tokenizer(text)['input_ids']\n",
    "\n",
    "train_dataset = BrainDataset(data_path / 'train', tokenize_function=tokenize_function, transform=train_transform, max_tokens=max_tokens)\n",
    "test_dataset = BrainDataset(data_path / 'test', tokenize_function=tokenize_function, transform=test_transform, max_tokens=max_tokens)"
   ]
  },
  {
   "cell_type": "code",
   "execution_count": 16,
   "metadata": {},
   "outputs": [
    {
     "name": "stdout",
     "output_type": "stream",
     "text": [
      "torch.Size([1, 512, 256]) torch.Size([1, 25]) tensor([0])\n"
     ]
    }
   ],
   "source": [
    "# test_dataloader = torch.utils.data.DataLoader(test_dataset, batch_size=1, shuffle=False)\n",
    "train_dataloader = torch.utils.data.DataLoader(train_dataset, batch_size=1, shuffle=False)\n",
    "\n",
    "x, y, date = next(iter(train_dataloader))\n",
    "loss, logits = model(x, y, date)\n",
    "\n",
    "print(x.shape, y.shape, date)\n",
    "# plt.imshow(x.detach()[0].T)\n",
    "# plt.show()"
   ]
  },
  {
   "cell_type": "markdown",
   "metadata": {},
   "source": [
    "# Work with data"
   ]
  },
  {
   "cell_type": "code",
   "execution_count": null,
   "metadata": {},
   "outputs": [
    {
     "name": "stdout",
     "output_type": "stream",
     "text": [
      "Launching training on one GPU.\n"
     ]
    },
    {
     "name": "stderr",
     "output_type": "stream",
     "text": [
      "/opt/conda/envs/pytorch/lib/python3.10/site-packages/accelerate/accelerator.py:446: FutureWarning: Passing the following arguments to `Accelerator` is deprecated and will be removed in version 1.0 of Accelerate: dict_keys(['split_batches']). Please pass an `accelerate.DataLoaderConfiguration` instead: \n",
      "dataloader_config = DataLoaderConfiguration(split_batches=True)\n",
      "  warnings.warn(\n",
      "\u001b[34m\u001b[1mwandb\u001b[0m: Currently logged in as: \u001b[33mkoval_alvi\u001b[0m. Use \u001b[1m`wandb login --relogin`\u001b[0m to force relogin\n"
     ]
    },
    {
     "data": {
      "text/html": [
       "wandb version 0.17.0 is available!  To upgrade, please run:\n",
       " $ pip install wandb --upgrade"
      ],
      "text/plain": [
       "<IPython.core.display.HTML object>"
      ]
     },
     "metadata": {},
     "output_type": "display_data"
    },
    {
     "data": {
      "text/html": [
       "Tracking run with wandb version 0.16.6"
      ],
      "text/plain": [
       "<IPython.core.display.HTML object>"
      ]
     },
     "metadata": {},
     "output_type": "display_data"
    },
    {
     "data": {
      "text/html": [
       "Run data is saved locally in <code>/home/kovalev/frankenstein/notebooks_trainer/wandb/run-20240524_140854-wokkobv9</code>"
      ],
      "text/plain": [
       "<IPython.core.display.HTML object>"
      ]
     },
     "metadata": {},
     "output_type": "display_data"
    },
    {
     "data": {
      "text/html": [
       "Syncing run <strong><a href='https://wandb.ai/koval_alvi/franky/runs/wokkobv9' target=\"_blank\">mirasol-whisper-medium-full-fixed-v2</a></strong> to <a href='https://wandb.ai/koval_alvi/franky' target=\"_blank\">Weights & Biases</a> (<a href='https://wandb.me/run' target=\"_blank\">docs</a>)<br/>"
      ],
      "text/plain": [
       "<IPython.core.display.HTML object>"
      ]
     },
     "metadata": {},
     "output_type": "display_data"
    },
    {
     "data": {
      "text/html": [
       " View project at <a href='https://wandb.ai/koval_alvi/franky' target=\"_blank\">https://wandb.ai/koval_alvi/franky</a>"
      ],
      "text/plain": [
       "<IPython.core.display.HTML object>"
      ]
     },
     "metadata": {},
     "output_type": "display_data"
    },
    {
     "data": {
      "text/html": [
       " View run at <a href='https://wandb.ai/koval_alvi/franky/runs/wokkobv9' target=\"_blank\">https://wandb.ai/koval_alvi/franky/runs/wokkobv9</a>"
      ],
      "text/plain": [
       "<IPython.core.display.HTML object>"
      ]
     },
     "metadata": {},
     "output_type": "display_data"
    },
    {
     "name": "stdout",
     "output_type": "stream",
     "text": [
      "Device for training:  cuda\n",
      "Num devices:  1\n",
      "Completed initialization of scheduler\n",
      "********************************************************************************************************************************************************************************************************************************"
     ]
    }
   ],
   "source": [
    "project_name = 'franky'\n",
    "save_folder = Path(\"/drive/logs/kovalev\")\n",
    "\n",
    "train_config = TrainConfig(exp_name='mirasol-whisper-medium-full-fixed-v2',\n",
    "                           mixed_precision=True,\n",
    "                           batch_size=8, \n",
    "                           grad_accum=8,\n",
    "                           num_workers=3,\n",
    "                           pin_memory=True, \n",
    "                           eval_interval=2000, \n",
    "                           learning_rate=1e-4,\n",
    "                           weight_decay=0.0, \n",
    "                           grad_clip=5,\n",
    "                           lr_decay_iters=20_000, \n",
    "                           warmup_iters=1000, \n",
    "                           project_name=project_name, \n",
    "                           save_folder=save_folder\n",
    "                          )\n",
    "# indices = torch.arange(16)\n",
    "# train_dataset = torch.utils.data.Subset(test_dataset, indices)\n",
    "# test_dataset = torch.utils.data.Subset(test_dataset, indices)\n",
    "\n",
    "args = (model, (train_dataset, test_dataset), train_config, model_config)\n",
    "notebook_launcher(run_train_model, args, num_processes=1)"
   ]
  },
  {
   "cell_type": "code",
   "execution_count": null,
   "metadata": {},
   "outputs": [],
   "source": []
  },
  {
   "cell_type": "code",
   "execution_count": null,
   "metadata": {},
   "outputs": [],
   "source": []
  },
  {
   "cell_type": "code",
   "execution_count": null,
   "metadata": {},
   "outputs": [],
   "source": []
  },
  {
   "cell_type": "code",
   "execution_count": null,
   "metadata": {},
   "outputs": [],
   "source": []
  },
  {
   "cell_type": "code",
   "execution_count": null,
   "metadata": {},
   "outputs": [],
   "source": [
    "x = test_dataset[0][0]\n",
    "device = 'cpu'\n",
    "x = torch.from_numpy(x[None, :]).to(device)\n",
    "print(x.shape)\n",
    "loss, y, binary = model(x, masking_ratio=0.75,  return_preds=True)\n",
    "\n",
    "x = x.detach().cpu()[0]\n",
    "y = y.detach().cpu()[0]\n",
    "binary = binary.detach().cpu()[0]\n",
    "\n",
    "import matplotlib.pyplot as plt \n",
    "\n",
    "# plt.plot(y[1, :])\n",
    "# plt.show()\n",
    "# plt.plot(x[1, :])\n",
    "# plt.show()\n",
    "loss = F.l1_loss(y, x, reduction='none')\n",
    "print(torch.mean(loss[loss>0]))\n",
    "\n",
    "plt.show()\n",
    "plt.imshow(binary[:64].T, aspect='auto')\n",
    "# plt.colorbar()\n",
    "plt.show()\n",
    "plt.imshow(torch.clip(y[:64].T, 0, 1), aspect='auto')\n",
    "plt.colorbar()\n",
    "plt.show()\n",
    "plt.imshow(x[:64].T, aspect='auto' )\n",
    "plt.colorbar()\n"
   ]
  },
  {
   "cell_type": "code",
   "execution_count": null,
   "metadata": {},
   "outputs": [],
   "source": [
    "plt.show()\n",
    "plt.plot(binary[:32, 10])\n",
    "plt.show()\n",
    "plt.plot(y[:32, 10])\n",
    "# plt.show()\n",
    "plt.plot(x[:32, 10])"
   ]
  },
  {
   "cell_type": "markdown",
   "metadata": {},
   "source": []
  },
  {
   "cell_type": "code",
   "execution_count": null,
   "metadata": {},
   "outputs": [],
   "source": []
  }
 ],
 "metadata": {
  "kernelspec": {
   "display_name": "Python [conda env:pytorch]",
   "language": "python",
   "name": "conda-env-pytorch-py"
  },
  "language_info": {
   "codemirror_mode": {
    "name": "ipython",
    "version": 3
   },
   "file_extension": ".py",
   "mimetype": "text/x-python",
   "name": "python",
   "nbconvert_exporter": "python",
   "pygments_lexer": "ipython3",
   "version": "3.10.14"
  }
 },
 "nbformat": 4,
 "nbformat_minor": 4
}
