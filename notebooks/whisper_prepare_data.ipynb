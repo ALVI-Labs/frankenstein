{
 "cells": [
  {
   "cell_type": "code",
   "execution_count": 20,
   "id": "e6e69f9e-c79b-4fcc-b4cd-46152d604f14",
   "metadata": {},
   "outputs": [
    {
     "name": "stdout",
     "output_type": "stream",
     "text": [
      "The autoreload extension is already loaded. To reload it, use:\n",
      "  %reload_ext autoreload\n"
     ]
    }
   ],
   "source": [
    "%load_ext autoreload\n",
    "%autoreload 2\n",
    "\n",
    "import numpy as np\n",
    "import scipy\n",
    "from scipy.io import loadmat\n",
    "from scipy import stats, signal\n",
    "\n",
    "import matplotlib.pyplot as plt\n",
    "\n",
    "from pathlib import Path\n",
    "import os\n",
    "import sys\n",
    "\n",
    "from sklearn.decomposition import PCA\n",
    "\n",
    "import torch\n",
    "from torch import nn\n",
    "from torch import functional as F\n",
    "\n",
    "project_path = Path(\"C:/Users/aleks/git/frankenstein\")\n",
    "utils_path = project_path / \"utils\"\n",
    "\n",
    "sys.path.append(str(utils_path))\n",
    "\n",
    "from data_utils import process_file, process_all_files, process_string\n",
    "\n",
    "data_path = Path(\"D:\\data_brain_to_text\\competitionData\")\n",
    "train_path = data_path / \"train\"\n",
    "test_path  = data_path / \"test\"\n",
    "holdout_path = data_path / \"competitionHoldOut\"\n",
    "\n",
    "fnames_train = os.listdir(train_path)\n",
    "fnames_test = os.listdir(test_path)\n",
    "fnames_holdout = os.listdir(holdout_path)"
   ]
  },
  {
   "cell_type": "markdown",
   "id": "e6721b46-8a84-4430-ac55-a7c4c7ab9eb0",
   "metadata": {
    "tags": []
   },
   "source": [
    "## First let's align input data\n",
    "\n",
    "We need to pad it to 3000 samples and reduce to 80 components"
   ]
  },
  {
   "cell_type": "markdown",
   "id": "d383f8b9-b936-4987-b6f3-6799a88825c1",
   "metadata": {},
   "source": [
    "## Load train and test data"
   ]
  },
  {
   "cell_type": "code",
   "execution_count": 2,
   "id": "3a7e409b-341d-4600-8669-485098a3e2ca",
   "metadata": {},
   "outputs": [
    {
     "name": "stdout",
     "output_type": "stream",
     "text": [
      "CPU times: total: 8.02 s\n",
      "Wall time: 27 s\n"
     ]
    },
    {
     "data": {
      "text/plain": [
       "dict_keys(['brain_list', 'sentence_list', 'date_list'])"
      ]
     },
     "execution_count": 2,
     "metadata": {},
     "output_type": "execute_result"
    }
   ],
   "source": [
    "%%time\n",
    "data_res_train = process_all_files(train_path)\n",
    "data_res_test = process_all_files(test_path)\n",
    "\n",
    "data_res_train.keys()"
   ]
  },
  {
   "cell_type": "markdown",
   "id": "93b97c3e-b4d7-4e73-a1ba-ff5ca0ff6780",
   "metadata": {},
   "source": [
    "## Process BRAIN DATA"
   ]
  },
  {
   "cell_type": "markdown",
   "id": "ca59d184-25d9-45aa-908f-26ac20a60d62",
   "metadata": {},
   "source": [
    "**Which inputs the model expects?**\n",
    "\n",
    "- 30 seconds of 16 kHz audio\n",
    "- it gets preprocessed by WhisperFeatureExtractor to a spectrogram of size 80 x 3000\n",
    "- so 30 sec of 100 Hz sampling rate)"
   ]
  },
  {
   "cell_type": "markdown",
   "id": "563cdcd9-e312-4b60-9820-5854ac26785c",
   "metadata": {},
   "source": [
    "### Train PCA\n",
    "\n",
    "We want to compress the data to 80 components"
   ]
  },
  {
   "cell_type": "code",
   "execution_count": 3,
   "id": "0c98702e-dff3-439b-a202-887cf4df3b6a",
   "metadata": {},
   "outputs": [
    {
     "name": "stdout",
     "output_type": "stream",
     "text": [
      "(2768768, 256)\n",
      "CPU times: total: 46.8 s\n",
      "Wall time: 22.3 s\n"
     ]
    }
   ],
   "source": [
    "%%time\n",
    "\n",
    "brain_list = data_res_train['brain_list']\n",
    "X = np.concatenate(brain_list, axis=0)[:, :256] # take only voltages\n",
    "print(X.shape)\n",
    "\n",
    "pca = PCA().fit(X)"
   ]
  },
  {
   "cell_type": "code",
   "execution_count": 4,
   "id": "f07afaf3-14d2-4d27-95d9-320c0fa25ab7",
   "metadata": {},
   "outputs": [],
   "source": [
    "def prepare_brain_data_for_whisper(brain_list, pca, n_components=80, pad_length=3000):\n",
    "    \n",
    "    # initialize output array \n",
    "    brain_processed_arr = np.empty((len(brain_list), n_components, pad_length))  # [N x 80 x 3000]\n",
    "    \n",
    "    for i, data in enumerate(brain_list):\n",
    "        data = data[:, :256]\n",
    "        # reduce to 80 components and transpose to (n_chan, n_times)\n",
    "        data_transformed = pca.transform(data)[:, :n_components].T # [80 x n]\n",
    "        n_times = data_transformed.shape[1]\n",
    "         # resample from 50 Hz to 100 Hz\n",
    "        data_resampled = signal.resample(data_transformed, n_times * 2, axis=1)\n",
    "        # pad to 30 sec (3000 samples in 100 Hz sampling rate)\n",
    "        data_padded = np.pad(data_resampled, [(0, 0), (0, pad_length - n_times * 2)])\n",
    "        # fill in values\n",
    "        brain_processed_arr[i] = data_padded\n",
    "    \n",
    "    return brain_processed_arr"
   ]
  },
  {
   "cell_type": "markdown",
   "id": "d6c5c532-b2be-4b7e-9ba6-740b6b1b2ebb",
   "metadata": {},
   "source": [
    "### Process data"
   ]
  },
  {
   "cell_type": "code",
   "execution_count": 5,
   "id": "06695692-b49d-4953-bea7-af93ef9cd049",
   "metadata": {},
   "outputs": [
    {
     "name": "stdout",
     "output_type": "stream",
     "text": [
      "CPU times: total: 3.7 s\n",
      "Wall time: 35.1 s\n"
     ]
    },
    {
     "data": {
      "text/plain": [
       "(8800, 80, 3000)"
      ]
     },
     "execution_count": 5,
     "metadata": {},
     "output_type": "execute_result"
    }
   ],
   "source": [
    "%%time\n",
    "brain_arr_train = prepare_brain_data_for_whisper(data_res_train['brain_list'], pca)\n",
    "brain_arr_train.shape"
   ]
  },
  {
   "cell_type": "code",
   "execution_count": 9,
   "id": "2b856168-5d22-4a3c-b4e8-44ce95eb1d75",
   "metadata": {},
   "outputs": [
    {
     "name": "stdout",
     "output_type": "stream",
     "text": [
      "CPU times: total: 203 ms\n",
      "Wall time: 2.31 s\n"
     ]
    },
    {
     "data": {
      "text/plain": [
       "(880, 80, 3000)"
      ]
     },
     "execution_count": 9,
     "metadata": {},
     "output_type": "execute_result"
    }
   ],
   "source": [
    "%%time\n",
    "brain_arr_test = prepare_brain_data_for_whisper(data_res_test['brain_list'], pca)\n",
    "brain_arr_test.shape"
   ]
  },
  {
   "cell_type": "code",
   "execution_count": 36,
   "id": "3a3ab8eb-a10f-4fdb-ad2f-56ddb51b79cb",
   "metadata": {},
   "outputs": [
    {
     "name": "stdout",
     "output_type": "stream",
     "text": [
      "For me it has more of both elements than the majority of its competitors.\n"
     ]
    },
    {
     "data": {
      "image/png": "[encoded data removed]",
      "text/plain": [
       "<Figure size 640x480 with 1 Axes>"
      ]
     },
     "metadata": {},
     "output_type": "display_data"
    }
   ],
   "source": [
    "plt.imshow(brain_arr_train[100], aspect='auto')\n",
    "print(data_res_train['sentence_list'][100])"
   ]
  },
  {
   "cell_type": "markdown",
   "id": "07076de7-b4b1-410c-8e32-c4f6cc6dbe87",
   "metadata": {},
   "source": [
    "### Save resulting files"
   ]
  },
  {
   "cell_type": "code",
   "execution_count": 7,
   "id": "61535d17-570b-4b35-85a1-639e5a420497",
   "metadata": {},
   "outputs": [],
   "source": [
    "np.save(data_path / \"whisper_brain_arr_train.npy\", brain_arr_train)\n",
    "np.save(data_path / \"whisper_brain_arr_test.npy\", brain_arr_test)"
   ]
  },
  {
   "cell_type": "code",
   "execution_count": null,
   "id": "fef9b4db-36f8-47f1-9b91-aaba1019340f",
   "metadata": {},
   "outputs": [],
   "source": [
    "features_train = np.load(data_path / \"whisper_brain_arr_train.npy\")\n",
    "features_test = np.load(data_path / \"whisper_brain_arr_test.npy\")"
   ]
  },
  {
   "cell_type": "markdown",
   "id": "eaf0d9d5-6578-4ff1-bfa2-3f559beb9e1c",
   "metadata": {},
   "source": [
    "## Process SENTENCES"
   ]
  },
  {
   "cell_type": "code",
   "execution_count": 48,
   "id": "3f1da5a1-c0ce-465f-bac8-902d754daf2a",
   "metadata": {},
   "outputs": [],
   "source": [
    "from transformers import WhisperTokenizer\n",
    "tokenizer = WhisperTokenizer.from_pretrained(\"openai/whisper-tiny.en\", task=\"transcribe\")"
   ]
  },
  {
   "cell_type": "code",
   "execution_count": 85,
   "id": "0180b5d3-6456-44dc-b386-8c3903c12eb0",
   "metadata": {},
   "outputs": [],
   "source": [
    "sentences_train = data_res_train['sentence_list']\n",
    "sentences_test  = data_res_test['sentence_list']"
   ]
  },
  {
   "cell_type": "markdown",
   "id": "54023c6a-f57c-4849-bbcc-10f7f3e5dfda",
   "metadata": {},
   "source": [
    "### Test how casing affects tokenization"
   ]
  },
  {
   "cell_type": "code",
   "execution_count": 44,
   "id": "bc4b9bd0-906b-43fc-b1bf-a19690780d1b",
   "metadata": {},
   "outputs": [
    {
     "name": "stdout",
     "output_type": "stream",
     "text": [
      "Theocracy reconsidered.\n",
      "[50257, 50358, 50362, 464, 17818, 23898, 3089, 13, 50256]\n",
      "<|startoftranscript|><|transcribe|><|notimestamps|>Theocracy reconsidered.<|endoftext|>\n",
      "theocracy reconsidered\n",
      "[50257, 50358, 50362, 1169, 17818, 23898, 3089, 50256]\n",
      "<|startoftranscript|><|transcribe|><|notimestamps|>theocracy reconsidered<|endoftext|>\n"
     ]
    }
   ],
   "source": [
    "i = 0\n",
    "s1 = sentences_test[i]\n",
    "s2 = process_string(sentences_test[i])\n",
    "\n",
    "d1 = tokenizer(s1).input_ids\n",
    "d2 = tokenizer(s2).input_ids\n",
    "\n",
    "s1_pred = tokenizer.decode(d1)\n",
    "s2_pred = tokenizer.decode(d2)\n",
    "\n",
    "print(s1)\n",
    "print(d1)\n",
    "print(s1_pred)\n",
    "\n",
    "print(s2)\n",
    "print(d2)\n",
    "print(s2_pred)"
   ]
  },
  {
   "cell_type": "markdown",
   "id": "f76a8b9b-0a72-4dfc-8cd8-9943626adc53",
   "metadata": {},
   "source": [
    "### Process all strings and save to a text file"
   ]
  },
  {
   "cell_type": "code",
   "execution_count": 92,
   "id": "ed7a735f-41f3-4db1-952d-87a046579b4d",
   "metadata": {},
   "outputs": [],
   "source": [
    "import string\n",
    "\n",
    "# version with lowering the case - AFFECTS tokenization!\n",
    "def process_string(text):\n",
    "    text = text.lower()\n",
    "    punctuation = string.punctuation.replace(\"'\", \"\")\n",
    "    text = ''.join(char for char in text if char not in punctuation)\n",
    "    return text\n",
    "\n",
    "# also affects tokenization but we don't care about punctuation!\n",
    "def remove_punctuation(text):\n",
    "    punctuation = string.punctuation.replace(\"'\", \"\")\n",
    "    text = ''.join(char for char in text if char not in punctuation)\n",
    "    return text\n",
    "\n",
    "\n",
    "def save_sentences_to_txt(fpath, sentences, string_processing_fn):\n",
    "    with open(fpath, 'w', encoding=\"utf-8\") as file:\n",
    "        for sentence in sentences:\n",
    "            file.write(string_processing_fn(sentence) + \"\\n\")\n",
    "            \n",
    "            \n",
    "def load_sentences_from_txt(fpath):\n",
    "    with open(fpath, 'r', encoding=\"utf-8\") as f:\n",
    "        sentences = [line.strip() for line in f.readlines()]\n",
    "    return sentences"
   ]
  },
  {
   "cell_type": "code",
   "execution_count": 98,
   "id": "2792cf65-0505-4a95-83aa-5666db5a5945",
   "metadata": {},
   "outputs": [],
   "source": [
    "string_processing_fn = process_string\n",
    "\n",
    "fname_train = \"whisper_sentences_train.txt\"\n",
    "save_sentences_to_txt(data_path / fname_train, data_res_train['sentence_list'], string_processing_fn)\n",
    "\n",
    "fname_test = \"whisper_sentences_test.txt\"\n",
    "save_sentences_to_txt(data_path / fname_test, data_res_test['sentence_list'], string_processing_fn)"
   ]
  },
  {
   "cell_type": "code",
   "execution_count": 100,
   "id": "2ab59759-4372-423e-8a1b-e9744c60dbf4",
   "metadata": {},
   "outputs": [
    {
     "data": {
      "text/plain": [
       "'nuclear rockets can destroy airfields with ease'"
      ]
     },
     "execution_count": 100,
     "metadata": {},
     "output_type": "execute_result"
    }
   ],
   "source": [
    "sentences_test = load_sentences_from_txt(data_path / \"whisper_sentences_test.txt\")\n",
    "sentences_train = load_sentences_from_txt(data_path / \"whisper_sentences_train.txt\")\n",
    "\n",
    "sentences_train[0]"
   ]
  },
  {
   "cell_type": "markdown",
   "id": "5dc77c08-c4cd-445e-8f50-5492fa6f1d48",
   "metadata": {},
   "source": [
    "## Prepare Whisper dataset"
   ]
  },
  {
   "cell_type": "markdown",
   "id": "c57185f2-b7ce-4b7b-a539-3f1e15b5b8d6",
   "metadata": {},
   "source": [
    "### Sentence tokenizer"
   ]
  },
  {
   "cell_type": "code",
   "execution_count": 28,
   "id": "2b2d44b8-0037-4ce0-99c1-c56089ee10de",
   "metadata": {},
   "outputs": [],
   "source": [
    "from transformers import WhisperFeatureExtractor\n",
    "from transformers import WhisperTokenizer\n",
    "from transformers import Seq2SeqTrainer\n",
    "from transformers import Seq2SeqTrainingArguments\n",
    "\n",
    "feature_extractor = WhisperFeatureExtractor.from_pretrained(\"openai/whisper-tiny.en\")\n",
    "tokenizer = WhisperTokenizer.from_pretrained(\"openai/whisper-tiny.en\", task=\"transcribe\")"
   ]
  },
  {
   "cell_type": "markdown",
   "id": "945b8488-4370-4bb4-8322-947981064f8e",
   "metadata": {},
   "source": [
    "### Prepare dataset"
   ]
  },
  {
   "cell_type": "code",
   "execution_count": 81,
   "id": "208a1aff-8400-4333-9e73-fe2278ce619a",
   "metadata": {},
   "outputs": [],
   "source": [
    "class BrainDataset(Dataset):\n",
    "    def __init__(self, brain_features, sentences, tokenizer):\n",
    "        self.brain_features = brain_features\n",
    "        self.sentences = sentences\n",
    "        self.tokenizer = tokenizer\n",
    "\n",
    "    def __len__(self):\n",
    "        return len(self.brain_features)\n",
    "\n",
    "    def __getitem__(self, idx):\n",
    "        input_features = self.brain_features[idx]\n",
    "        sentence = self.sentences[idx]\n",
    "\n",
    "        # Tokenize the sentence\n",
    "        labels = self.tokenizer(sentence, return_tensors=\"pt\").input_ids.squeeze()\n",
    "\n",
    "        return {\n",
    "            \"input_features\": torch.tensor(input_features),\n",
    "            \"labels\": labels,\n",
    "        }\n",
    "\n",
    "# Create training and evaluation datasets\n",
    "train_dataset = BrainDataset(brain_arr_train, sentences_train, tokenizer)\n",
    "eval_dataset = BrainDataset(brain_arr_test, sentences_test, tokenizer)"
   ]
  },
  {
   "cell_type": "code",
   "execution_count": 82,
   "id": "17ec1963-4ca5-4d1e-bc06-f61cb96b32ce",
   "metadata": {},
   "outputs": [
    {
     "data": {
      "text/plain": [
       "{'input_features': tensor([[ 5.3771,  6.0706,  5.4985,  ...,  0.0000,  0.0000,  0.0000],\n",
       "         [-0.4956,  0.0681, -0.3296,  ...,  0.0000,  0.0000,  0.0000],\n",
       "         [-1.2867, -1.2222, -1.1686,  ...,  0.0000,  0.0000,  0.0000],\n",
       "         ...,\n",
       "         [ 0.4317,  0.4389,  0.6194,  ...,  0.0000,  0.0000,  0.0000],\n",
       "         [-0.1586,  0.0664, -0.1886,  ...,  0.0000,  0.0000,  0.0000],\n",
       "         [ 0.4949,  0.3686,  0.1017,  ...,  0.0000,  0.0000,  0.0000]],\n",
       "        dtype=torch.float64),\n",
       " 'labels': tensor([50257, 50358, 50362,    45,  4016, 20293,   460,  4117,  1633, 25747,\n",
       "           351, 10152,    13, 50256])}"
      ]
     },
     "execution_count": 82,
     "metadata": {},
     "output_type": "execute_result"
    }
   ],
   "source": [
    "train_dataset[0]"
   ]
  },
  {
   "cell_type": "code",
   "execution_count": 86,
   "id": "cd883b03-a215-4f9a-b4b6-82b25e0760dc",
   "metadata": {},
   "outputs": [],
   "source": [
    "import torch\n",
    "\n",
    "from dataclasses import dataclass\n",
    "from typing import Any, Dict, List, Union\n",
    "\n",
    "@dataclass\n",
    "class DataCollatorSpeechSeq2SeqWithPadding:\n",
    "    \n",
    "    feature_extractor: Any\n",
    "    tokenizer: Any\n",
    "    decoder_start_token_id: int\n",
    "\n",
    "    def __call__(self, features: List[Dict[str, Union[List[int], torch.Tensor]]]) -> Dict[str, torch.Tensor]:\n",
    "        # first treat the BRAIN INPUTS (already preprocessed)\n",
    "        input_features = [{\"input_features\": feature[\"input_features\"]} for feature in features]\n",
    "        batch = self.feature_extractor.pad(input_features, return_tensors=\"pt\")\n",
    "\n",
    "        # get the tokenized label sequences\n",
    "        label_features = [{\"input_ids\": feature[\"labels\"]} for feature in features]\n",
    "        # pad the labels to max length\n",
    "        labels_batch = self.tokenizer.pad(label_features, return_tensors=\"pt\")\n",
    "\n",
    "        # replace padding with -100 to ignore loss correctly\n",
    "        labels = labels_batch[\"input_ids\"].masked_fill(labels_batch.attention_mask.ne(1), -100)\n",
    "\n",
    "        # if bos token is appended in previous tokenization step,\n",
    "        # cut bos token here as it's append later anyways\n",
    "        if (labels[:, 0] == self.decoder_start_token_id).all().cpu().item():\n",
    "            labels = labels[:, 1:]\n",
    "\n",
    "        batch[\"labels\"] = labels\n",
    "\n",
    "        return batch\n"
   ]
  },
  {
   "cell_type": "code",
   "execution_count": 89,
   "id": "dbb807cb-56ec-4b5f-9e77-4ee294c2d258",
   "metadata": {},
   "outputs": [
    {
     "ename": "NameError",
     "evalue": "name 'model' is not defined",
     "output_type": "error",
     "traceback": [
      "\u001b[1;31m---------------------------------------------------------------------------\u001b[0m",
      "\u001b[1;31mNameError\u001b[0m                                 Traceback (most recent call last)",
      "Input \u001b[1;32mIn [89]\u001b[0m, in \u001b[0;36m<cell line: 1>\u001b[1;34m()\u001b[0m\n\u001b[0;32m      1\u001b[0m data_collator \u001b[38;5;241m=\u001b[39m DataCollatorSpeechSeq2SeqWithPadding(\n\u001b[0;32m      2\u001b[0m     tokenizer\u001b[38;5;241m=\u001b[39mtokenizer,\n\u001b[0;32m      3\u001b[0m     feature_extractor\u001b[38;5;241m=\u001b[39mfeature_extractor,\n\u001b[1;32m----> 4\u001b[0m     decoder_start_token_id\u001b[38;5;241m=\u001b[39m\u001b[43mmodel\u001b[49m\u001b[38;5;241m.\u001b[39mconfig\u001b[38;5;241m.\u001b[39mdecoder_start_token_id,\n\u001b[0;32m      5\u001b[0m )\n",
      "\u001b[1;31mNameError\u001b[0m: name 'model' is not defined"
     ]
    }
   ],
   "source": [
    "data_collator = DataCollatorSpeechSeq2SeqWithPadding(\n",
    "    tokenizer=tokenizer,\n",
    "    feature_extractor=feature_extractor,\n",
    "    decoder_start_token_id=model.config.decoder_start_token_id,\n",
    ")"
   ]
  },
  {
   "cell_type": "code",
   "execution_count": 2,
   "id": "4fcf6ad5-6e2f-4660-99dc-89f5ce1db4da",
   "metadata": {},
   "outputs": [
    {
     "name": "stdout",
     "output_type": "stream",
     "text": [
      "===========================================================================\n",
      "Layer (type:depth-idx)                             Param #\n",
      "===========================================================================\n",
      "├─WhisperModel: 1-1                                --\n",
      "|    └─WhisperEncoder: 2-1                         --\n",
      "|    |    └─Conv1d: 3-1                            92,544\n",
      "|    |    └─Conv1d: 3-2                            442,752\n",
      "|    |    └─Embedding: 3-3                         (576,000)\n",
      "|    |    └─ModuleList: 3-4                        7,096,320\n",
      "|    |    └─LayerNorm: 3-5                         768\n",
      "|    └─WhisperDecoder: 2-2                         --\n",
      "|    |    └─Embedding: 3-6                         19,915,776\n",
      "|    |    └─WhisperPositionalEmbedding: 3-7        172,032\n",
      "|    |    └─ModuleList: 3-8                        9,463,296\n",
      "|    |    └─LayerNorm: 3-9                         768\n",
      "├─Linear: 1-2                                      19,915,776\n",
      "===========================================================================\n",
      "Total params: 57,676,032\n",
      "Trainable params: 57,100,032\n",
      "Non-trainable params: 576,000\n",
      "===========================================================================\n"
     ]
    }
   ],
   "source": [
    "\"\"\" LOAD PRETRAINED MODEL COMPONENTS \"\"\"\n",
    "\n",
    "import torch\n",
    "from torch import nn\n",
    "from torch import functional as F\n",
    "\n",
    "WHISPER_MODEL_NAME = \"openai/whisper-tiny.en\"\n",
    "\n",
    "from transformers import WhisperTokenizer, WhisperFeatureExtractor\n",
    "from transformers import GenerationConfig\n",
    "from transformers import WhisperForConditionalGeneration\n",
    "from transformers import Seq2SeqTrainer, Seq2SeqTrainingArguments\n",
    "\n",
    "# load feature/label processing engines\n",
    "feature_extractor = WhisperFeatureExtractor.from_pretrained(WHISPER_MODEL_NAME)\n",
    "tokenizer = WhisperTokenizer.from_pretrained(WHISPER_MODEL_NAME, task=\"transcribe\")\n",
    "# load model\n",
    "model = WhisperForConditionalGeneration.from_pretrained(WHISPER_MODEL_NAME)\n",
    "#model.generation_config.language = \"english\"\n",
    "#model.generation_config.task = \"transcribe\"\n",
    "#model.generation_config.forced_decoder_ids = None\n",
    "\n",
    "from dataclasses import dataclass\n",
    "from typing import Any, Dict, List, Union\n",
    "\n",
    "import evaluate\n",
    "metric = evaluate.load(\"wer\")\n",
    "\n",
    "from torchsummary import summary\n",
    "summary(model);"
   ]
  },
  {
   "cell_type": "code",
   "execution_count": 3,
   "id": "612f7cc5-0ae4-4ea8-a698-07adc2a18c87",
   "metadata": {},
   "outputs": [
    {
     "data": {
      "text/plain": [
       "WhisperDecoder(\n",
       "  (embed_tokens): Embedding(51864, 384, padding_idx=50256)\n",
       "  (embed_positions): WhisperPositionalEmbedding(448, 384)\n",
       "  (layers): ModuleList(\n",
       "    (0-3): 4 x WhisperDecoderLayer(\n",
       "      (self_attn): WhisperSdpaAttention(\n",
       "        (k_proj): Linear(in_features=384, out_features=384, bias=False)\n",
       "        (v_proj): Linear(in_features=384, out_features=384, bias=True)\n",
       "        (q_proj): Linear(in_features=384, out_features=384, bias=True)\n",
       "        (out_proj): Linear(in_features=384, out_features=384, bias=True)\n",
       "      )\n",
       "      (activation_fn): GELUActivation()\n",
       "      (self_attn_layer_norm): LayerNorm((384,), eps=1e-05, elementwise_affine=True)\n",
       "      (encoder_attn): WhisperSdpaAttention(\n",
       "        (k_proj): Linear(in_features=384, out_features=384, bias=False)\n",
       "        (v_proj): Linear(in_features=384, out_features=384, bias=True)\n",
       "        (q_proj): Linear(in_features=384, out_features=384, bias=True)\n",
       "        (out_proj): Linear(in_features=384, out_features=384, bias=True)\n",
       "      )\n",
       "      (encoder_attn_layer_norm): LayerNorm((384,), eps=1e-05, elementwise_affine=True)\n",
       "      (fc1): Linear(in_features=384, out_features=1536, bias=True)\n",
       "      (fc2): Linear(in_features=1536, out_features=384, bias=True)\n",
       "      (final_layer_norm): LayerNorm((384,), eps=1e-05, elementwise_affine=True)\n",
       "    )\n",
       "  )\n",
       "  (layer_norm): LayerNorm((384,), eps=1e-05, elementwise_affine=True)\n",
       ")"
      ]
     },
     "execution_count": 3,
     "metadata": {},
     "output_type": "execute_result"
    }
   ],
   "source": [
    "model.get_decoder()"
   ]
  },
  {
   "cell_type": "code",
   "execution_count": 6,
   "id": "2d8d5b34-a280-4441-b6f5-b51d02873e65",
   "metadata": {},
   "outputs": [],
   "source": []
  },
  {
   "cell_type": "code",
   "execution_count": 7,
   "id": "813b3cf2-e435-4c4b-97b7-441c120757c8",
   "metadata": {},
   "outputs": [
    {
     "data": {
      "text/plain": [
       "WhisperForConditionalGeneration(\n",
       "  (model): WhisperModel(\n",
       "    (encoder): WhisperEncoder(\n",
       "      (conv1): Conv1d(80, 384, kernel_size=(3,), stride=(1,), padding=(1,))\n",
       "      (conv2): Conv1d(384, 384, kernel_size=(3,), stride=(2,), padding=(1,))\n",
       "      (embed_positions): Embedding(1500, 384)\n",
       "      (layers): ModuleList(\n",
       "        (0-3): 4 x WhisperEncoderLayer(\n",
       "          (self_attn): WhisperSdpaAttention(\n",
       "            (k_proj): Linear(in_features=384, out_features=384, bias=False)\n",
       "            (v_proj): Linear(in_features=384, out_features=384, bias=True)\n",
       "            (q_proj): Linear(in_features=384, out_features=384, bias=True)\n",
       "            (out_proj): Linear(in_features=384, out_features=384, bias=True)\n",
       "          )\n",
       "          (self_attn_layer_norm): LayerNorm((384,), eps=1e-05, elementwise_affine=True)\n",
       "          (activation_fn): GELUActivation()\n",
       "          (fc1): Linear(in_features=384, out_features=1536, bias=True)\n",
       "          (fc2): Linear(in_features=1536, out_features=384, bias=True)\n",
       "          (final_layer_norm): LayerNorm((384,), eps=1e-05, elementwise_affine=True)\n",
       "        )\n",
       "      )\n",
       "      (layer_norm): LayerNorm((384,), eps=1e-05, elementwise_affine=True)\n",
       "    )\n",
       "    (decoder): WhisperDecoder(\n",
       "      (embed_tokens): Embedding(51864, 384, padding_idx=50256)\n",
       "      (embed_positions): WhisperPositionalEmbedding(448, 384)\n",
       "      (layers): ModuleList(\n",
       "        (0-3): 4 x WhisperDecoderLayer(\n",
       "          (self_attn): WhisperSdpaAttention(\n",
       "            (k_proj): Linear(in_features=384, out_features=384, bias=False)\n",
       "            (v_proj): Linear(in_features=384, out_features=384, bias=True)\n",
       "            (q_proj): Linear(in_features=384, out_features=384, bias=True)\n",
       "            (out_proj): Linear(in_features=384, out_features=384, bias=True)\n",
       "          )\n",
       "          (activation_fn): GELUActivation()\n",
       "          (self_attn_layer_norm): LayerNorm((384,), eps=1e-05, elementwise_affine=True)\n",
       "          (encoder_attn): WhisperSdpaAttention(\n",
       "            (k_proj): Linear(in_features=384, out_features=384, bias=False)\n",
       "            (v_proj): Linear(in_features=384, out_features=384, bias=True)\n",
       "            (q_proj): Linear(in_features=384, out_features=384, bias=True)\n",
       "            (out_proj): Linear(in_features=384, out_features=384, bias=True)\n",
       "          )\n",
       "          (encoder_attn_layer_norm): LayerNorm((384,), eps=1e-05, elementwise_affine=True)\n",
       "          (fc1): Linear(in_features=384, out_features=1536, bias=True)\n",
       "          (fc2): Linear(in_features=1536, out_features=384, bias=True)\n",
       "          (final_layer_norm): LayerNorm((384,), eps=1e-05, elementwise_affine=True)\n",
       "        )\n",
       "      )\n",
       "      (layer_norm): LayerNorm((384,), eps=1e-05, elementwise_affine=True)\n",
       "    )\n",
       "  )\n",
       "  (proj_out): Linear(in_features=384, out_features=51864, bias=False)\n",
       ")"
      ]
     },
     "execution_count": 7,
     "metadata": {},
     "output_type": "execute_result"
    }
   ],
   "source": [
    "model"
   ]
  },
  {
   "cell_type": "code",
   "execution_count": 14,
   "id": "37428ea5-efcd-420a-a669-6e24d7ad18f9",
   "metadata": {},
   "outputs": [
    {
     "name": "stdout",
     "output_type": "stream",
     "text": [
      "===========================================================================\n",
      "Layer (type:depth-idx)                             Param #\n",
      "===========================================================================\n",
      "├─WhisperModel: 1-1                                --\n",
      "|    └─WhisperEncoder: 2-1                         --\n",
      "|    |    └─Conv1d: 3-1                            92,544\n",
      "|    |    └─Conv1d: 3-2                            442,752\n",
      "|    |    └─Embedding: 3-3                         (576,000)\n",
      "|    |    └─ModuleList: 3-4                        7,096,320\n",
      "|    |    └─LayerNorm: 3-5                         768\n",
      "|    └─WhisperDecoder: 2-2                         --\n",
      "|    |    └─Embedding: 3-6                         19,915,776\n",
      "|    |    └─WhisperPositionalEmbedding: 3-7        172,032\n",
      "|    |    └─ModuleList: 3-8                        9,463,296\n",
      "|    |    └─LayerNorm: 3-9                         768\n",
      "├─Linear: 1-2                                      19,915,776\n",
      "===========================================================================\n",
      "Total params: 57,676,032\n",
      "Trainable params: 57,100,032\n",
      "Non-trainable params: 576,000\n",
      "===========================================================================\n"
     ]
    }
   ],
   "source": [
    "for param in model.get_decoder().parameters():\n",
    "    param.requires_grad = True\n",
    "    \n",
    "summary(model);"
   ]
  },
  {
   "cell_type": "code",
   "execution_count": null,
   "id": "611ffdb7-2b3a-4eff-a726-c22a88ca2324",
   "metadata": {},
   "outputs": [],
   "source": []
  }
 ],
 "metadata": {
  "kernelspec": {
   "display_name": "Python 3 (ipykernel)",
   "language": "python",
   "name": "python3"
  },
  "language_info": {
   "codemirror_mode": {
    "name": "ipython",
    "version": 3
   },
   "file_extension": ".py",
   "mimetype": "text/x-python",
   "name": "python",
   "nbconvert_exporter": "python",
   "pygments_lexer": "ipython3",
   "version": "3.9.12"
  }
 },
 "nbformat": 4,
 "nbformat_minor": 5
}
