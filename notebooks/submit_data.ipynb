{
 "cells": [
  {
   "cell_type": "code",
   "execution_count": null,
   "metadata": {},
   "outputs": [],
   "source": [
    "import string\n",
    "from pathlib import Path\n",
    "\n",
    "def process_string(text):\n",
    "    text = text.lower()\n",
    "    punctuation = string.punctuation.replace(\"'\", \"\")\n",
    "    text = ''.join(char for char in text if char not in punctuation)\n",
    "    return text\n",
    "\n",
    "def make_prediction_on_dataset(model, submit_dataset):\n",
    "    pred_list =[]\n",
    "    for sample in submit_dataset:\n",
    "        pred_text = \"I LOVE you. don't So much AXAX\"\n",
    "        pred_text = process_string(pred_text)\n",
    "        pred_list.append(pred_text)\n",
    "    return pred_list\n",
    "\n",
    "def create_string_file(filename, string_list):\n",
    "    with open(filename, 'w') as file:\n",
    "        for string in string_list:\n",
    "            # Process each string\n",
    "            processed_string = process_string(string)\n",
    "            \n",
    "            # Write the processed string to the file\n",
    "            file.write(processed_string + '\\n')\n",
    "\n"
   ]
  },
  {
   "cell_type": "code",
   "execution_count": null,
   "metadata": {},
   "outputs": [],
   "source": [
    "\n",
    "model = None\n",
    "\n",
    "data_path = Path(r\"D:\\Work\\brain-to-text-competition\\data\\competitionData\")\n",
    "submit_dataset = BrainDataset(data_path / 'competitionHoldOut')\n",
    "\n",
    "\n",
    "\n",
    "result = make_prediction_on_dataset(model,submit_dataset)\n",
    "create_string_file(\"sub.txt\", result)"
   ]
  }
 ],
 "metadata": {
  "kernelspec": {
   "display_name": "Python 3 (ipykernel)",
   "language": "python",
   "name": "python3"
  },
  "language_info": {
   "codemirror_mode": {
    "name": "ipython",
    "version": 3
   },
   "file_extension": ".py",
   "mimetype": "text/x-python",
   "name": "python",
   "nbconvert_exporter": "python",
   "pygments_lexer": "ipython3",
   "version": "3.11.6"
  }
 },
 "nbformat": 4,
 "nbformat_minor": 4
}
