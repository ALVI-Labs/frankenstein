{
 "cells": [
  {
   "cell_type": "code",
   "execution_count": 1,
   "metadata": {},
   "outputs": [],
   "source": [
    "import os\n",
    "import sys\n",
    "from pathlib import Path\n",
    "sys.path.insert(1, os.path.realpath(os.path.pardir))\n",
    "\n",
    "from models.brain_mae import EncoderConfig, Encoder, MAE, MAEConfig"
   ]
  },
  {
   "cell_type": "code",
   "execution_count": 2,
   "metadata": {},
   "outputs": [],
   "source": [
    "import torch\n",
    "import torch.nn as nn\n",
    "import torch.nn.functional as F\n",
    "\n",
    "from einops import rearrange\n"
   ]
  },
  {
   "cell_type": "code",
   "execution_count": 3,
   "metadata": {},
   "outputs": [
    {
     "name": "stdout",
     "output_type": "stream",
     "text": [
      "EncoderConfig(window_size=32, n_electrodes=256, time_patch_size=4, n_features=4, n_layers=12, dim=512, hidden_dim=2048, head_dim=32, n_heads=16, n_kv_heads=16)\n",
      "Simple Encoder: number of parameters: 50.50M\n",
      "torch.Size([1, 2049, 512])\n"
     ]
    }
   ],
   "source": [
    "encoder_config = EncoderConfig()\n",
    "encoder = Encoder(encoder_config)\n",
    "\n",
    "\n",
    "x = torch.zeros(1, 32, 256*4)\n",
    "date_info = torch.ones(1, 1).long()\n",
    "\n",
    "y_hat = encoder(x, date_info=date_info)\n",
    "print(y_hat.shape)"
   ]
  },
  {
   "cell_type": "code",
   "execution_count": 6,
   "metadata": {},
   "outputs": [
    {
     "name": "stdout",
     "output_type": "stream",
     "text": [
      "EncoderConfig(window_size=32, n_electrodes=256, time_patch_size=4, n_features=4, n_layers=12, dim=512, hidden_dim=2048, head_dim=32, n_heads=16, n_kv_heads=16)\n",
      "Simple Encoder: number of parameters: 50.50M\n",
      "MAEConfig(masking_ratio=0.5, n_layers=6, dim=512, hidden_dim=2048, head_dim=32, n_heads=16, n_kv_heads=16)\n",
      "MAE: number of parameters: 76.99M\n",
      "torch.Size([1, 32, 1024]) torch.Size([1, 32, 1024])\n"
     ]
    }
   ],
   "source": [
    "mae_config = MAEConfig()\n",
    "model = MAE(encoder_config=encoder_config, mae_config=mae_config)\n",
    "\n",
    "\n",
    "y_hat = model(x, date_info=date_info, return_preds=True)\n",
    "print(y_hat[1].shape, y_hat[2].shape)"
   ]
  }
 ],
 "metadata": {
  "kernelspec": {
   "display_name": "torch_2",
   "language": "python",
   "name": "python3"
  },
  "language_info": {
   "codemirror_mode": {
    "name": "ipython",
    "version": 3
   },
   "file_extension": ".py",
   "mimetype": "text/x-python",
   "name": "python",
   "nbconvert_exporter": "python",
   "pygments_lexer": "ipython3",
   "version": "3.10.10"
  }
 },
 "nbformat": 4,
 "nbformat_minor": 2
}
