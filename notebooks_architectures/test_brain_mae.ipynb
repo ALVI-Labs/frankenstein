{
 "cells": [
  {
   "cell_type": "code",
   "execution_count": 1,
   "metadata": {},
   "outputs": [],
   "source": [
    "import os\n",
    "import sys\n",
    "from pathlib import Path\n",
    "sys.path.insert(1, os.path.realpath(os.path.pardir))\n",
    "\n",
    "from models.brain_mae import EncoderConfig, Encoder, MAE, MAEConfig"
   ]
  },
  {
   "cell_type": "code",
   "execution_count": 2,
   "metadata": {},
   "outputs": [],
   "source": [
    "import torch\n",
    "import torch.nn as nn\n",
    "import torch.nn.functional as F\n",
    "\n",
    "from einops import rearrange\n"
   ]
  },
  {
   "cell_type": "code",
   "execution_count": 5,
   "metadata": {},
   "outputs": [
    {
     "name": "stdout",
     "output_type": "stream",
     "text": [
      "EncoderConfig(window_size=32, n_electrodes=256, mask_ratio=0.75, patch_size=4, n_layers=12, dim=256, hidden_dim=1024, head_dim=32, n_heads=16, n_kv_heads=16)\n",
      "Simple Encoder: number of parameters: 15.81M\n",
      "EncoderConfig(window_size=32, n_electrodes=256, mask_ratio=0.75, patch_size=4, n_layers=12, dim=256, hidden_dim=1024, head_dim=32, n_heads=16, n_kv_heads=16)\n",
      "Simple Encoder: number of parameters: 15.81M\n",
      "MAE: number of parameters: 17.68M\n"
     ]
    }
   ],
   "source": [
    "encoder_config = EncoderConfig(dim=256, window_size=32)\n",
    "mae_config = MAEConfig()\n",
    "encoder = Encoder(encoder_config)\n",
    "\n",
    "model = MAE(encoder_config=encoder_config, mae_config=mae_config)\n",
    "\n",
    "\n",
    "x = torch.zeros(2, 32, 256)\n",
    "y_hat = encoder(x, date_info=torch.ones(2, 1).long())\n",
    "print(y_hat.shape)"
   ]
  },
  {
   "cell_type": "code",
   "execution_count": 4,
   "metadata": {},
   "outputs": [
    {
     "data": {
      "text/plain": [
       "(tensor(0.3868, grad_fn=<MseLossBackward0>), None)"
      ]
     },
     "execution_count": 4,
     "metadata": {},
     "output_type": "execute_result"
    }
   ],
   "source": [
    "date_info = torch.ones(2, 1).long()\n",
    "model(x, date_info=date_info)"
   ]
  }
 ],
 "metadata": {
  "kernelspec": {
   "display_name": "torch_2",
   "language": "python",
   "name": "python3"
  },
  "language_info": {
   "codemirror_mode": {
    "name": "ipython",
    "version": 3
   },
   "file_extension": ".py",
   "mimetype": "text/x-python",
   "name": "python",
   "nbconvert_exporter": "python",
   "pygments_lexer": "ipython3",
   "version": "3.10.10"
  }
 },
 "nbformat": 4,
 "nbformat_minor": 2
}
