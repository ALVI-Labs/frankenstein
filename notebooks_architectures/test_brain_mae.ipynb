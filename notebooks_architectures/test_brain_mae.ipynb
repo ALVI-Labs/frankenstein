{
 "cells": [
  {
   "cell_type": "code",
   "execution_count": 1,
   "metadata": {},
   "outputs": [],
   "source": [
    "import os\n",
    "import sys\n",
    "from pathlib import Path\n",
    "sys.path.insert(1, os.path.realpath(os.path.pardir))\n",
    "\n",
    "from models.brain_mae import EncoderConfig, Encoder, MAE, MAEConfig"
   ]
  },
  {
   "cell_type": "code",
   "execution_count": 2,
   "metadata": {},
   "outputs": [],
   "source": [
    "import torch\n",
    "import torch.nn as nn\n",
    "import torch.nn.functional as F\n",
    "\n",
    "from einops import rearrange\n"
   ]
  },
  {
   "cell_type": "code",
   "execution_count": 4,
   "metadata": {},
   "outputs": [
    {
     "name": "stdout",
     "output_type": "stream",
     "text": [
      "EncoderConfig(window_size=32, n_electrodes=256, time_patch_size=4, n_features=2, n_layers=4, dim=128, hidden_dim=512, head_dim=32, n_heads=16, n_kv_heads=16)\n",
      "Simple Encoder: number of parameters: 1.87M\n",
      "EncoderConfig(window_size=32, n_electrodes=256, time_patch_size=4, n_features=2, n_layers=4, dim=128, hidden_dim=512, head_dim=32, n_heads=16, n_kv_heads=16)\n",
      "Simple Encoder: number of parameters: 1.87M\n",
      "MAEConfig(masking_ratio=0.5, n_layers=6, dim=256, hidden_dim=1024, head_dim=16, n_heads=8, n_kv_heads=8)\n",
      "MAE: number of parameters: 7.94M\n",
      "torch.Size([1, 2049, 128])\n"
     ]
    }
   ],
   "source": [
    "encoder_config = EncoderConfig(dim=128, n_layers=4, hidden_dim=512, window_size=32, n_features=2)\n",
    "mae_config = MAEConfig()\n",
    "\n",
    "\n",
    "encoder = Encoder(encoder_config)\n",
    "model = MAE(encoder_config=encoder_config, mae_config=mae_config)\n",
    "\n",
    "\n",
    "x = torch.zeros(1, 32, 512)\n",
    "y_hat = encoder(x, date_info=torch.ones(1, 1).long())\n",
    "print(y_hat.shape)"
   ]
  }
 ],
 "metadata": {
  "kernelspec": {
   "display_name": "torch_2",
   "language": "python",
   "name": "python3"
  },
  "language_info": {
   "codemirror_mode": {
    "name": "ipython",
    "version": 3
   },
   "file_extension": ".py",
   "mimetype": "text/x-python",
   "name": "python",
   "nbconvert_exporter": "python",
   "pygments_lexer": "ipython3",
   "version": "3.10.10"
  }
 },
 "nbformat": 4,
 "nbformat_minor": 2
}
