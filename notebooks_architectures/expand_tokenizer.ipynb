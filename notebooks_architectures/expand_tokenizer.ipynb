{
 "cells": [
  {
   "cell_type": "code",
   "execution_count": null,
   "metadata": {},
   "outputs": [],
   "source": [
    "print('s')"
   ]
  },
  {
   "cell_type": "code",
   "execution_count": null,
   "metadata": {},
   "outputs": [],
   "source": [
    "tokenizer('l')"
   ]
  },
  {
   "cell_type": "code",
   "execution_count": null,
   "metadata": {},
   "outputs": [],
   "source": []
  },
  {
   "cell_type": "code",
   "execution_count": 7,
   "metadata": {},
   "outputs": [
    {
     "data": {
      "text/plain": [
       "[50258, 50359, 50363, 51865]"
      ]
     },
     "execution_count": 7,
     "metadata": {},
     "output_type": "execute_result"
    }
   ],
   "source": [
    "## For generation\n",
    "date = 't12.2022.04.28'\n",
    "\n",
    "input_indices = tokenizer_new.encode(date)[:-1]\n",
    "input_indices\n",
    "# txt_to_generate = \"<|startoftranscript|><|transcribe|><|notimestamps|>\" + date\n",
    "\n",
    "# indices_start = tokenizer_new.decode([txt_to_generate]) \n",
    "\n"
   ]
  },
  {
   "cell_type": "code",
   "execution_count": 8,
   "metadata": {},
   "outputs": [
    {
     "ename": "SyntaxError",
     "evalue": "invalid syntax. Perhaps you forgot a comma? (1077441864.py, line 1)",
     "output_type": "error",
     "traceback": [
      "\u001b[1;36m  Cell \u001b[1;32mIn[8], line 1\u001b[1;36m\u001b[0m\n\u001b[1;33m    Expand model\u001b[0m\n\u001b[1;37m    ^\u001b[0m\n\u001b[1;31mSyntaxError\u001b[0m\u001b[1;31m:\u001b[0m invalid syntax. Perhaps you forgot a comma?\n"
     ]
    }
   ],
   "source": [
    "Expand model "
   ]
  },
  {
   "cell_type": "code",
   "execution_count": null,
   "metadata": {},
   "outputs": [
    {
     "data": {
      "text/plain": [
       "tensor([-0.0034,  0.0085,  0.0040, -0.0011,  0.0164,  0.0069,  0.0199,  0.0485,\n",
       "         0.0426, -0.0036], grad_fn=<SliceBackward0>)"
      ]
     },
     "execution_count": 103,
     "metadata": {},
     "output_type": "execute_result"
    }
   ],
   "source": [
    "list(model.get_input_embeddings().parameters())[0][100][:10]"
   ]
  },
  {
   "cell_type": "code",
   "execution_count": 9,
   "metadata": {},
   "outputs": [
    {
     "data": {
      "text/plain": [
       "tensor([-0.0034,  0.0085,  0.0040, -0.0011,  0.0164,  0.0069,  0.0199,  0.0485,\n",
       "         0.0426, -0.0036], grad_fn=<SliceBackward0>)"
      ]
     },
     "execution_count": 9,
     "metadata": {},
     "output_type": "execute_result"
    }
   ],
   "source": [
    "list(model.get_input_embeddings().parameters())[0][100][:10]"
   ]
  },
  {
   "cell_type": "markdown",
   "metadata": {},
   "source": [
    "tokenizerocab_size = 50258"
   ]
  },
  {
   "cell_type": "code",
   "execution_count": null,
   "metadata": {},
   "outputs": [
    {
     "name": "stdout",
     "output_type": "stream",
     "text": [
      "<|startoftranscript|><|transcribe|><|notimestamps|> i love you<|endoftext|>\n"
     ]
    },
    {
     "data": {
      "text/plain": [
       "{'input_ids': tensor([50258, 50359, 50363,   741,   959,   291, 50257]), 'attention_mask': tensor([1, 1, 1, 1, 1, 1, 1])}"
      ]
     },
     "execution_count": 106,
     "metadata": {},
     "output_type": "execute_result"
    }
   ],
   "source": [
    "txt = 'i love you'\n",
    "\n",
    "# indices = tokenizer.encode(txt)\n",
    "# tokenizer.decode(indices)\n",
    "\n",
    "labels = tokenizer(txt, return_tensors=\"pt\").input_ids.squeeze()\n",
    "print(tokenizer.decode(labels))\n",
    "\n",
    "labels_batch = tokenizer.pad({'input_ids': labels}, return_tensors=\"pt\")\n",
    "labels_batch"
   ]
  },
  {
   "cell_type": "code",
   "execution_count": null,
   "metadata": {},
   "outputs": [],
   "source": []
  },
  {
   "cell_type": "code",
   "execution_count": null,
   "metadata": {},
   "outputs": [],
   "source": []
  },
  {
   "cell_type": "code",
   "execution_count": null,
   "metadata": {},
   "outputs": [
    {
     "data": {
      "text/plain": [
       "'<|startoftranscript|><|transcribe|><|notimestamps|> i love you<|endoftext|>'"
      ]
     },
     "execution_count": 107,
     "metadata": {},
     "output_type": "execute_result"
    }
   ],
   "source": [
    "txt = ' i love you'\n",
    "\n",
    "indices = tokenizer.encode(txt)\n",
    "tokenizer.decode(indices)"
   ]
  }
 ],
 "metadata": {
  "kernelspec": {
   "display_name": ".venv",
   "language": "python",
   "name": "python3"
  },
  "language_info": {
   "codemirror_mode": {
    "name": "ipython",
    "version": 3
   },
   "file_extension": ".py",
   "mimetype": "text/x-python",
   "name": "python",
   "nbconvert_exporter": "python",
   "pygments_lexer": "ipython3",
   "version": "3.10.0"
  }
 },
 "nbformat": 4,
 "nbformat_minor": 2
}
