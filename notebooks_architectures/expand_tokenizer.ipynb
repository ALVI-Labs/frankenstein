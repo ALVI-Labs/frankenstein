{
 "cells": [
  {
   "cell_type": "code",
   "execution_count": 1,
   "metadata": {},
   "outputs": [
    {
     "name": "stderr",
     "output_type": "stream",
     "text": [
      "c:\\Users\\peter\\alvi\\brain2text\\.venv\\lib\\site-packages\\tqdm\\auto.py:21: TqdmWarning: IProgress not found. Please update jupyter and ipywidgets. See https://ipywidgets.readthedocs.io/en/stable/user_install.html\n",
      "  from .autonotebook import tqdm as notebook_tqdm\n"
     ]
    }
   ],
   "source": [
    "from transformers import WhisperTokenizer, WhisperFeatureExtractor\n",
    "from transformers import GenerationConfig\n",
    "from transformers import WhisperForConditionalGeneration"
   ]
  },
  {
   "cell_type": "code",
   "execution_count": 2,
   "metadata": {},
   "outputs": [],
   "source": [
    "def expand_tokenizer_model(tokenizer, model, new_tokens_list):\n",
    "    date_info = new_tokens_list\n",
    "    tokenizer.add_special_tokens(dict(additional_special_tokens=date_info))\n",
    "    model.resize_token_embeddings(len(tokenizer))\n",
    "    return tokenizer, model"
   ]
  },
  {
   "cell_type": "code",
   "execution_count": 3,
   "metadata": {},
   "outputs": [],
   "source": [
    "DATE_TO_INDEX = {'t12.2022.04.28': 0,\n",
    "                't12.2022.05.05': 1,\n",
    "                't12.2022.05.17': 2,\n",
    "                't12.2022.05.19': 3,\n",
    "                't12.2022.05.24': 4,\n",
    "                't12.2022.05.26': 5,\n",
    "                't12.2022.06.02': 6,\n",
    "                't12.2022.06.07': 7,\n",
    "                't12.2022.06.14': 8,\n",
    "                't12.2022.06.16': 9,\n",
    "                't12.2022.06.21': 10,\n",
    "                't12.2022.06.23': 11,\n",
    "                't12.2022.06.28': 12,\n",
    "                't12.2022.07.05': 13,\n",
    "                't12.2022.07.14': 14,\n",
    "                't12.2022.07.21': 15,\n",
    "                't12.2022.07.27': 16,\n",
    "                't12.2022.07.29': 17,\n",
    "                't12.2022.08.02': 18,\n",
    "                't12.2022.08.11': 19,\n",
    "                't12.2022.08.13': 20,\n",
    "                't12.2022.08.18': 21,\n",
    "                't12.2022.08.23': 22,\n",
    "                't12.2022.08.25': 23}"
   ]
  },
  {
   "cell_type": "code",
   "execution_count": 4,
   "metadata": {},
   "outputs": [
    {
     "name": "stderr",
     "output_type": "stream",
     "text": [
      "Special tokens have been added in the vocabulary, make sure the associated word embeddings are fine-tuned or trained.\n"
     ]
    }
   ],
   "source": [
    "\"\"\" LOAD PRETRAINED MODEL COMPONENTS \"\"\"\n",
    "\n",
    "WHISPER_MODEL_NAME = \"openai/whisper-tiny\"\n",
    "\n",
    "# load feature/label processing engines|\n",
    "feature_extractor = WhisperFeatureExtractor.from_pretrained(WHISPER_MODEL_NAME)\n",
    "tokenizer = WhisperTokenizer.from_pretrained(WHISPER_MODEL_NAME, task=\"transcribe\")\n",
    "model = WhisperForConditionalGeneration.from_pretrained(WHISPER_MODEL_NAME)\n",
    "\n",
    "if \".en\" not in WHISPER_MODEL_NAME:\n",
    "    model.generation_config.language = \"english\"\n",
    "    model.generation_config.task = \"transcribe\"\n",
    "    model.generation_config.forced_decoder_ids = None\n",
    "\n",
    "\n",
    "tokenizer, model = expand_tokenizer_model(tokenizer, model, list(DATE_TO_INDEX.keys()))"
   ]
  },
  {
   "cell_type": "code",
   "execution_count": 5,
   "metadata": {},
   "outputs": [
    {
     "name": "stdout",
     "output_type": "stream",
     "text": [
      "tensor([50258, 50359, 50363, 51865,    72,   959,   291, 50257])\n",
      "<|startoftranscript|><|transcribe|><|notimestamps|>t12.2022.04.28i love you<|endoftext|>\n",
      "51889 Embedding(51889, 384)\n"
     ]
    }
   ],
   "source": [
    "txt = 'i love you'\n",
    "date = 't12.2022.04.28'\n",
    "\n",
    "txt = date + txt\n",
    "\n",
    "labels = tokenizer(txt, return_tensors=\"pt\").input_ids.squeeze()\n",
    "print(labels)\n",
    "print(tokenizer.decode(labels))\n",
    "\n",
    "print(len(tokenizer), model.get_input_embeddings())"
   ]
  },
  {
   "cell_type": "code",
   "execution_count": 6,
   "metadata": {},
   "outputs": [
    {
     "name": "stderr",
     "output_type": "stream",
     "text": [
      "Special tokens have been added in the vocabulary, make sure the associated word embeddings are fine-tuned or trained.\n",
      "Special tokens have been added in the vocabulary, make sure the associated word embeddings are fine-tuned or trained.\n"
     ]
    },
    {
     "name": "stdout",
     "output_type": "stream",
     "text": [
      "51865 51889\n"
     ]
    },
    {
     "data": {
      "text/plain": [
       "Embedding(51889, 384)"
      ]
     },
     "execution_count": 6,
     "metadata": {},
     "output_type": "execute_result"
    }
   ],
   "source": [
    "tokenizer_old = WhisperTokenizer.from_pretrained(WHISPER_MODEL_NAME, task=\"transcribe\")\n",
    "tokenizer_new = WhisperTokenizer.from_pretrained(WHISPER_MODEL_NAME, task=\"transcribe\")\n",
    "\n",
    "date_info = list(DATE_TO_INDEX.keys())\n",
    "tokenizer_new.add_special_tokens(dict(additional_special_tokens=date_info))\n",
    "\n",
    "print(len(tokenizer_old), len(tokenizer_new))\n",
    "\n",
    "model.resize_token_embeddings(len(tokenizer_new))"
   ]
  },
  {
   "cell_type": "code",
   "execution_count": null,
   "metadata": {},
   "outputs": [],
   "source": []
  },
  {
   "cell_type": "code",
   "execution_count": null,
   "metadata": {},
   "outputs": [],
   "source": []
  },
  {
   "cell_type": "code",
   "execution_count": 7,
   "metadata": {},
   "outputs": [
    {
     "data": {
      "text/plain": [
       "[50258, 50359, 50363, 51865]"
      ]
     },
     "execution_count": 7,
     "metadata": {},
     "output_type": "execute_result"
    }
   ],
   "source": [
    "## For generation\n",
    "date = 't12.2022.04.28'\n",
    "\n",
    "input_indices = tokenizer_new.encode(date)[:-1]\n",
    "input_indices\n",
    "# txt_to_generate = \"<|startoftranscript|><|transcribe|><|notimestamps|>\" + date\n",
    "\n",
    "# indices_start = tokenizer_new.decode([txt_to_generate]) \n",
    "\n"
   ]
  },
  {
   "cell_type": "code",
   "execution_count": 8,
   "metadata": {},
   "outputs": [
    {
     "ename": "SyntaxError",
     "evalue": "invalid syntax. Perhaps you forgot a comma? (1077441864.py, line 1)",
     "output_type": "error",
     "traceback": [
      "\u001b[1;36m  Cell \u001b[1;32mIn[8], line 1\u001b[1;36m\u001b[0m\n\u001b[1;33m    Expand model\u001b[0m\n\u001b[1;37m    ^\u001b[0m\n\u001b[1;31mSyntaxError\u001b[0m\u001b[1;31m:\u001b[0m invalid syntax. Perhaps you forgot a comma?\n"
     ]
    }
   ],
   "source": [
    "Expand model "
   ]
  },
  {
   "cell_type": "code",
   "execution_count": null,
   "metadata": {},
   "outputs": [
    {
     "data": {
      "text/plain": [
       "tensor([-0.0034,  0.0085,  0.0040, -0.0011,  0.0164,  0.0069,  0.0199,  0.0485,\n",
       "         0.0426, -0.0036], grad_fn=<SliceBackward0>)"
      ]
     },
     "execution_count": 103,
     "metadata": {},
     "output_type": "execute_result"
    }
   ],
   "source": [
    "list(model.get_input_embeddings().parameters())[0][100][:10]"
   ]
  },
  {
   "cell_type": "code",
   "execution_count": null,
   "metadata": {},
   "outputs": [
    {
     "data": {
      "text/plain": [
       "tensor([-0.0034,  0.0085,  0.0040, -0.0011,  0.0164,  0.0069,  0.0199,  0.0485,\n",
       "         0.0426, -0.0036], grad_fn=<SliceBackward0>)"
      ]
     },
     "execution_count": 105,
     "metadata": {},
     "output_type": "execute_result"
    }
   ],
   "source": [
    "list(model.get_input_embeddings().parameters())[0][100][:10]"
   ]
  },
  {
   "cell_type": "markdown",
   "metadata": {},
   "source": [
    "tokenizerocab_size = 50258"
   ]
  },
  {
   "cell_type": "code",
   "execution_count": null,
   "metadata": {},
   "outputs": [
    {
     "name": "stdout",
     "output_type": "stream",
     "text": [
      "<|startoftranscript|><|transcribe|><|notimestamps|> i love you<|endoftext|>\n"
     ]
    },
    {
     "data": {
      "text/plain": [
       "{'input_ids': tensor([50258, 50359, 50363,   741,   959,   291, 50257]), 'attention_mask': tensor([1, 1, 1, 1, 1, 1, 1])}"
      ]
     },
     "execution_count": 106,
     "metadata": {},
     "output_type": "execute_result"
    }
   ],
   "source": [
    "txt = ' i love you'\n",
    "\n",
    "# indices = tokenizer.encode(txt)\n",
    "# tokenizer.decode(indices)\n",
    "\n",
    "labels = tokenizer(txt, return_tensors=\"pt\").input_ids.squeeze()\n",
    "print(tokenizer.decode(labels))\n",
    "\n",
    "labels_batch = tokenizer.pad({'input_ids': labels}, return_tensors=\"pt\")\n",
    "labels_batch"
   ]
  },
  {
   "cell_type": "code",
   "execution_count": null,
   "metadata": {},
   "outputs": [],
   "source": []
  },
  {
   "cell_type": "code",
   "execution_count": null,
   "metadata": {},
   "outputs": [],
   "source": []
  },
  {
   "cell_type": "code",
   "execution_count": null,
   "metadata": {},
   "outputs": [
    {
     "data": {
      "text/plain": [
       "'<|startoftranscript|><|transcribe|><|notimestamps|> i love you<|endoftext|>'"
      ]
     },
     "execution_count": 107,
     "metadata": {},
     "output_type": "execute_result"
    }
   ],
   "source": [
    "txt = ' i love you'\n",
    "\n",
    "indices = tokenizer.encode(txt)\n",
    "tokenizer.decode(indices)"
   ]
  }
 ],
 "metadata": {
  "kernelspec": {
   "display_name": ".venv",
   "language": "python",
   "name": "python3"
  },
  "language_info": {
   "codemirror_mode": {
    "name": "ipython",
    "version": 3
   },
   "file_extension": ".py",
   "mimetype": "text/x-python",
   "name": "python",
   "nbconvert_exporter": "python",
   "pygments_lexer": "ipython3",
   "version": "3.10.0"
  }
 },
 "nbformat": 4,
 "nbformat_minor": 2
}
