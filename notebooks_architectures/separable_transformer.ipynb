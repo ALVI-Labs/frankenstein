{
 "cells": [
  {
   "cell_type": "markdown",
   "metadata": {},
   "source": [
    "### BERT-like model for brain signals.\n",
    "- tokenizer(vq vae).\n",
    "- spatial attention.\n",
    "- temporal attention."
   ]
  },
  {
   "cell_type": "code",
   "execution_count": 2,
   "metadata": {},
   "outputs": [],
   "source": [
    "import os\n",
    "import sys\n",
    "from pathlib import Path\n",
    "sys.path.insert(1, os.path.realpath(os.path.pardir))\n",
    "\n",
    "from models.bert import BrainBert, BertConfig\n",
    "from models.vq_brain_per_channel import SoundStream\n",
    "\n",
    "import torch\n",
    "import torch.nn as nn\n",
    "import torch.nn.functional as F\n",
    "\n",
    "from einops import rearrange\n",
    "from einops.layers.torch import Rearrange\n",
    "\n",
    "from typing import Optional\n",
    "\n",
    "from dataclasses import dataclass\n",
    "from simple_parsing.helpers import Serializable\n",
    "import time\n",
    "import numpy as np\n",
    "## Functions"
   ]
  },
  {
   "cell_type": "code",
   "execution_count": 3,
   "metadata": {},
   "outputs": [
    {
     "name": "stdout",
     "output_type": "stream",
     "text": [
      "self.codebook_size 1000\n",
      "BertConfig(window_size=20, n_electrodes=256, mask_ratio=0, n_layers=8, dim=512, hidden_dim=1024, head_dim=32, n_heads=16, n_kv_heads=16)\n",
      "Encoder: number of parameters: 48.85M\n",
      "None torch.Size([1, 20, 256, 512])\n"
     ]
    }
   ],
   "source": [
    "device = 'cuda'\n",
    "vq_config = dict(C=128, n_electrodes=1, levels=[8, 5, 5, 5])\n",
    "cfg = BertConfig(dim=512, window_size=20, n_electrodes=256, mask_ratio=0)\n",
    "\n",
    "vq_vae = SoundStream(**vq_config).to(device)\n",
    "model = BrainBert(cfg, vq_vae).to(device)\n",
    "\n",
    "x = torch.randn(1, 80, 256).to(device)\n",
    "loss, y = model(x)\n",
    "\n",
    "print(loss, y.shape)\n"
   ]
  }
 ],
 "metadata": {
  "kernelspec": {
   "display_name": "Python [conda env:pytorch]",
   "language": "python",
   "name": "conda-env-pytorch-py"
  },
  "language_info": {
   "codemirror_mode": {
    "name": "ipython",
    "version": 3
   },
   "file_extension": ".py",
   "mimetype": "text/x-python",
   "name": "python",
   "nbconvert_exporter": "python",
   "pygments_lexer": "ipython3",
   "version": "3.10.14"
  }
 },
 "nbformat": 4,
 "nbformat_minor": 4
}
